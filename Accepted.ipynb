{
  "nbformat": 4,
  "nbformat_minor": 0,
  "metadata": {
    "colab": {
      "name": "Accepted.ipynb",
      "provenance": [],
      "collapsed_sections": []
    },
    "kernelspec": {
      "display_name": "Python 3",
      "name": "python3"
    },
    "language_info": {
      "name": "python"
    },
    "accelerator": "GPU"
  },
  "cells": [
    {
      "cell_type": "code",
      "metadata": {
        "id": "uk4TLxK07q3J"
      },
      "source": [
        "import pandas as pd\n",
        "import numpy as np\n",
        "from matplotlib import pyplot as plt\n",
        "import seaborn as sns"
      ],
      "execution_count": null,
      "outputs": []
    },
    {
      "cell_type": "code",
      "metadata": {
        "colab": {
          "base_uri": "https://localhost:8080/",
          "height": 389
        },
        "id": "6jeqT8q38TJg",
        "outputId": "e53ee717-dd46-4359-964f-548c6344a02e"
      },
      "source": [
        "accepted = pd.read_csv('/content/accepted_2007_to_2018Q4.csv')\n",
        "accepted.head(5)"
      ],
      "execution_count": null,
      "outputs": [
        {
          "output_type": "stream",
          "text": [
            "/usr/local/lib/python3.7/dist-packages/IPython/core/interactiveshell.py:2718: DtypeWarning: Columns (19) have mixed types.Specify dtype option on import or set low_memory=False.\n",
            "  interactivity=interactivity, compiler=compiler, result=result)\n"
          ],
          "name": "stderr"
        },
        {
          "output_type": "execute_result",
          "data": {
            "text/html": [
              "<div>\n",
              "<style scoped>\n",
              "    .dataframe tbody tr th:only-of-type {\n",
              "        vertical-align: middle;\n",
              "    }\n",
              "\n",
              "    .dataframe tbody tr th {\n",
              "        vertical-align: top;\n",
              "    }\n",
              "\n",
              "    .dataframe thead th {\n",
              "        text-align: right;\n",
              "    }\n",
              "</style>\n",
              "<table border=\"1\" class=\"dataframe\">\n",
              "  <thead>\n",
              "    <tr style=\"text-align: right;\">\n",
              "      <th></th>\n",
              "      <th>id</th>\n",
              "      <th>member_id</th>\n",
              "      <th>loan_amnt</th>\n",
              "      <th>funded_amnt</th>\n",
              "      <th>funded_amnt_inv</th>\n",
              "      <th>term</th>\n",
              "      <th>int_rate</th>\n",
              "      <th>installment</th>\n",
              "      <th>grade</th>\n",
              "      <th>sub_grade</th>\n",
              "      <th>emp_title</th>\n",
              "      <th>emp_length</th>\n",
              "      <th>home_ownership</th>\n",
              "      <th>annual_inc</th>\n",
              "      <th>verification_status</th>\n",
              "      <th>issue_d</th>\n",
              "      <th>loan_status</th>\n",
              "      <th>pymnt_plan</th>\n",
              "      <th>url</th>\n",
              "      <th>desc</th>\n",
              "      <th>purpose</th>\n",
              "      <th>title</th>\n",
              "      <th>zip_code</th>\n",
              "      <th>addr_state</th>\n",
              "      <th>dti</th>\n",
              "      <th>delinq_2yrs</th>\n",
              "      <th>earliest_cr_line</th>\n",
              "      <th>fico_range_low</th>\n",
              "      <th>fico_range_high</th>\n",
              "      <th>inq_last_6mths</th>\n",
              "      <th>mths_since_last_delinq</th>\n",
              "      <th>mths_since_last_record</th>\n",
              "      <th>open_acc</th>\n",
              "      <th>pub_rec</th>\n",
              "      <th>revol_bal</th>\n",
              "      <th>revol_util</th>\n",
              "      <th>total_acc</th>\n",
              "      <th>initial_list_status</th>\n",
              "      <th>out_prncp</th>\n",
              "      <th>out_prncp_inv</th>\n",
              "      <th>...</th>\n",
              "      <th>tot_hi_cred_lim</th>\n",
              "      <th>total_bal_ex_mort</th>\n",
              "      <th>total_bc_limit</th>\n",
              "      <th>total_il_high_credit_limit</th>\n",
              "      <th>revol_bal_joint</th>\n",
              "      <th>sec_app_fico_range_low</th>\n",
              "      <th>sec_app_fico_range_high</th>\n",
              "      <th>sec_app_earliest_cr_line</th>\n",
              "      <th>sec_app_inq_last_6mths</th>\n",
              "      <th>sec_app_mort_acc</th>\n",
              "      <th>sec_app_open_acc</th>\n",
              "      <th>sec_app_revol_util</th>\n",
              "      <th>sec_app_open_act_il</th>\n",
              "      <th>sec_app_num_rev_accts</th>\n",
              "      <th>sec_app_chargeoff_within_12_mths</th>\n",
              "      <th>sec_app_collections_12_mths_ex_med</th>\n",
              "      <th>sec_app_mths_since_last_major_derog</th>\n",
              "      <th>hardship_flag</th>\n",
              "      <th>hardship_type</th>\n",
              "      <th>hardship_reason</th>\n",
              "      <th>hardship_status</th>\n",
              "      <th>deferral_term</th>\n",
              "      <th>hardship_amount</th>\n",
              "      <th>hardship_start_date</th>\n",
              "      <th>hardship_end_date</th>\n",
              "      <th>payment_plan_start_date</th>\n",
              "      <th>hardship_length</th>\n",
              "      <th>hardship_dpd</th>\n",
              "      <th>hardship_loan_status</th>\n",
              "      <th>orig_projected_additional_accrued_interest</th>\n",
              "      <th>hardship_payoff_balance_amount</th>\n",
              "      <th>hardship_last_payment_amount</th>\n",
              "      <th>disbursement_method</th>\n",
              "      <th>debt_settlement_flag</th>\n",
              "      <th>debt_settlement_flag_date</th>\n",
              "      <th>settlement_status</th>\n",
              "      <th>settlement_date</th>\n",
              "      <th>settlement_amount</th>\n",
              "      <th>settlement_percentage</th>\n",
              "      <th>settlement_term</th>\n",
              "    </tr>\n",
              "  </thead>\n",
              "  <tbody>\n",
              "    <tr>\n",
              "      <th>0</th>\n",
              "      <td>68407277</td>\n",
              "      <td>NaN</td>\n",
              "      <td>3600.0</td>\n",
              "      <td>3600.0</td>\n",
              "      <td>3600.0</td>\n",
              "      <td>36 months</td>\n",
              "      <td>13.99</td>\n",
              "      <td>123.03</td>\n",
              "      <td>C</td>\n",
              "      <td>C4</td>\n",
              "      <td>leadman</td>\n",
              "      <td>10+ years</td>\n",
              "      <td>MORTGAGE</td>\n",
              "      <td>55000.0</td>\n",
              "      <td>Not Verified</td>\n",
              "      <td>Dec-2015</td>\n",
              "      <td>Fully Paid</td>\n",
              "      <td>n</td>\n",
              "      <td>https://lendingclub.com/browse/loanDetail.acti...</td>\n",
              "      <td>NaN</td>\n",
              "      <td>debt_consolidation</td>\n",
              "      <td>Debt consolidation</td>\n",
              "      <td>190xx</td>\n",
              "      <td>PA</td>\n",
              "      <td>5.91</td>\n",
              "      <td>0.0</td>\n",
              "      <td>Aug-2003</td>\n",
              "      <td>675.0</td>\n",
              "      <td>679.0</td>\n",
              "      <td>1.0</td>\n",
              "      <td>30.0</td>\n",
              "      <td>NaN</td>\n",
              "      <td>7.0</td>\n",
              "      <td>0.0</td>\n",
              "      <td>2765.0</td>\n",
              "      <td>29.7</td>\n",
              "      <td>13.0</td>\n",
              "      <td>w</td>\n",
              "      <td>0.00</td>\n",
              "      <td>0.00</td>\n",
              "      <td>...</td>\n",
              "      <td>178050.0</td>\n",
              "      <td>7746.0</td>\n",
              "      <td>2400.0</td>\n",
              "      <td>13734.0</td>\n",
              "      <td>NaN</td>\n",
              "      <td>NaN</td>\n",
              "      <td>NaN</td>\n",
              "      <td>NaN</td>\n",
              "      <td>NaN</td>\n",
              "      <td>NaN</td>\n",
              "      <td>NaN</td>\n",
              "      <td>NaN</td>\n",
              "      <td>NaN</td>\n",
              "      <td>NaN</td>\n",
              "      <td>NaN</td>\n",
              "      <td>NaN</td>\n",
              "      <td>NaN</td>\n",
              "      <td>N</td>\n",
              "      <td>NaN</td>\n",
              "      <td>NaN</td>\n",
              "      <td>NaN</td>\n",
              "      <td>NaN</td>\n",
              "      <td>NaN</td>\n",
              "      <td>NaN</td>\n",
              "      <td>NaN</td>\n",
              "      <td>NaN</td>\n",
              "      <td>NaN</td>\n",
              "      <td>NaN</td>\n",
              "      <td>NaN</td>\n",
              "      <td>NaN</td>\n",
              "      <td>NaN</td>\n",
              "      <td>NaN</td>\n",
              "      <td>Cash</td>\n",
              "      <td>N</td>\n",
              "      <td>NaN</td>\n",
              "      <td>NaN</td>\n",
              "      <td>NaN</td>\n",
              "      <td>NaN</td>\n",
              "      <td>NaN</td>\n",
              "      <td>NaN</td>\n",
              "    </tr>\n",
              "    <tr>\n",
              "      <th>1</th>\n",
              "      <td>68355089</td>\n",
              "      <td>NaN</td>\n",
              "      <td>24700.0</td>\n",
              "      <td>24700.0</td>\n",
              "      <td>24700.0</td>\n",
              "      <td>36 months</td>\n",
              "      <td>11.99</td>\n",
              "      <td>820.28</td>\n",
              "      <td>C</td>\n",
              "      <td>C1</td>\n",
              "      <td>Engineer</td>\n",
              "      <td>10+ years</td>\n",
              "      <td>MORTGAGE</td>\n",
              "      <td>65000.0</td>\n",
              "      <td>Not Verified</td>\n",
              "      <td>Dec-2015</td>\n",
              "      <td>Fully Paid</td>\n",
              "      <td>n</td>\n",
              "      <td>https://lendingclub.com/browse/loanDetail.acti...</td>\n",
              "      <td>NaN</td>\n",
              "      <td>small_business</td>\n",
              "      <td>Business</td>\n",
              "      <td>577xx</td>\n",
              "      <td>SD</td>\n",
              "      <td>16.06</td>\n",
              "      <td>1.0</td>\n",
              "      <td>Dec-1999</td>\n",
              "      <td>715.0</td>\n",
              "      <td>719.0</td>\n",
              "      <td>4.0</td>\n",
              "      <td>6.0</td>\n",
              "      <td>NaN</td>\n",
              "      <td>22.0</td>\n",
              "      <td>0.0</td>\n",
              "      <td>21470.0</td>\n",
              "      <td>19.2</td>\n",
              "      <td>38.0</td>\n",
              "      <td>w</td>\n",
              "      <td>0.00</td>\n",
              "      <td>0.00</td>\n",
              "      <td>...</td>\n",
              "      <td>314017.0</td>\n",
              "      <td>39475.0</td>\n",
              "      <td>79300.0</td>\n",
              "      <td>24667.0</td>\n",
              "      <td>NaN</td>\n",
              "      <td>NaN</td>\n",
              "      <td>NaN</td>\n",
              "      <td>NaN</td>\n",
              "      <td>NaN</td>\n",
              "      <td>NaN</td>\n",
              "      <td>NaN</td>\n",
              "      <td>NaN</td>\n",
              "      <td>NaN</td>\n",
              "      <td>NaN</td>\n",
              "      <td>NaN</td>\n",
              "      <td>NaN</td>\n",
              "      <td>NaN</td>\n",
              "      <td>N</td>\n",
              "      <td>NaN</td>\n",
              "      <td>NaN</td>\n",
              "      <td>NaN</td>\n",
              "      <td>NaN</td>\n",
              "      <td>NaN</td>\n",
              "      <td>NaN</td>\n",
              "      <td>NaN</td>\n",
              "      <td>NaN</td>\n",
              "      <td>NaN</td>\n",
              "      <td>NaN</td>\n",
              "      <td>NaN</td>\n",
              "      <td>NaN</td>\n",
              "      <td>NaN</td>\n",
              "      <td>NaN</td>\n",
              "      <td>Cash</td>\n",
              "      <td>N</td>\n",
              "      <td>NaN</td>\n",
              "      <td>NaN</td>\n",
              "      <td>NaN</td>\n",
              "      <td>NaN</td>\n",
              "      <td>NaN</td>\n",
              "      <td>NaN</td>\n",
              "    </tr>\n",
              "    <tr>\n",
              "      <th>2</th>\n",
              "      <td>68341763</td>\n",
              "      <td>NaN</td>\n",
              "      <td>20000.0</td>\n",
              "      <td>20000.0</td>\n",
              "      <td>20000.0</td>\n",
              "      <td>60 months</td>\n",
              "      <td>10.78</td>\n",
              "      <td>432.66</td>\n",
              "      <td>B</td>\n",
              "      <td>B4</td>\n",
              "      <td>truck driver</td>\n",
              "      <td>10+ years</td>\n",
              "      <td>MORTGAGE</td>\n",
              "      <td>63000.0</td>\n",
              "      <td>Not Verified</td>\n",
              "      <td>Dec-2015</td>\n",
              "      <td>Fully Paid</td>\n",
              "      <td>n</td>\n",
              "      <td>https://lendingclub.com/browse/loanDetail.acti...</td>\n",
              "      <td>NaN</td>\n",
              "      <td>home_improvement</td>\n",
              "      <td>NaN</td>\n",
              "      <td>605xx</td>\n",
              "      <td>IL</td>\n",
              "      <td>10.78</td>\n",
              "      <td>0.0</td>\n",
              "      <td>Aug-2000</td>\n",
              "      <td>695.0</td>\n",
              "      <td>699.0</td>\n",
              "      <td>0.0</td>\n",
              "      <td>NaN</td>\n",
              "      <td>NaN</td>\n",
              "      <td>6.0</td>\n",
              "      <td>0.0</td>\n",
              "      <td>7869.0</td>\n",
              "      <td>56.2</td>\n",
              "      <td>18.0</td>\n",
              "      <td>w</td>\n",
              "      <td>0.00</td>\n",
              "      <td>0.00</td>\n",
              "      <td>...</td>\n",
              "      <td>218418.0</td>\n",
              "      <td>18696.0</td>\n",
              "      <td>6200.0</td>\n",
              "      <td>14877.0</td>\n",
              "      <td>NaN</td>\n",
              "      <td>NaN</td>\n",
              "      <td>NaN</td>\n",
              "      <td>NaN</td>\n",
              "      <td>NaN</td>\n",
              "      <td>NaN</td>\n",
              "      <td>NaN</td>\n",
              "      <td>NaN</td>\n",
              "      <td>NaN</td>\n",
              "      <td>NaN</td>\n",
              "      <td>NaN</td>\n",
              "      <td>NaN</td>\n",
              "      <td>NaN</td>\n",
              "      <td>N</td>\n",
              "      <td>NaN</td>\n",
              "      <td>NaN</td>\n",
              "      <td>NaN</td>\n",
              "      <td>NaN</td>\n",
              "      <td>NaN</td>\n",
              "      <td>NaN</td>\n",
              "      <td>NaN</td>\n",
              "      <td>NaN</td>\n",
              "      <td>NaN</td>\n",
              "      <td>NaN</td>\n",
              "      <td>NaN</td>\n",
              "      <td>NaN</td>\n",
              "      <td>NaN</td>\n",
              "      <td>NaN</td>\n",
              "      <td>Cash</td>\n",
              "      <td>N</td>\n",
              "      <td>NaN</td>\n",
              "      <td>NaN</td>\n",
              "      <td>NaN</td>\n",
              "      <td>NaN</td>\n",
              "      <td>NaN</td>\n",
              "      <td>NaN</td>\n",
              "    </tr>\n",
              "    <tr>\n",
              "      <th>3</th>\n",
              "      <td>66310712</td>\n",
              "      <td>NaN</td>\n",
              "      <td>35000.0</td>\n",
              "      <td>35000.0</td>\n",
              "      <td>35000.0</td>\n",
              "      <td>60 months</td>\n",
              "      <td>14.85</td>\n",
              "      <td>829.90</td>\n",
              "      <td>C</td>\n",
              "      <td>C5</td>\n",
              "      <td>Information Systems Officer</td>\n",
              "      <td>10+ years</td>\n",
              "      <td>MORTGAGE</td>\n",
              "      <td>110000.0</td>\n",
              "      <td>Source Verified</td>\n",
              "      <td>Dec-2015</td>\n",
              "      <td>Current</td>\n",
              "      <td>n</td>\n",
              "      <td>https://lendingclub.com/browse/loanDetail.acti...</td>\n",
              "      <td>NaN</td>\n",
              "      <td>debt_consolidation</td>\n",
              "      <td>Debt consolidation</td>\n",
              "      <td>076xx</td>\n",
              "      <td>NJ</td>\n",
              "      <td>17.06</td>\n",
              "      <td>0.0</td>\n",
              "      <td>Sep-2008</td>\n",
              "      <td>785.0</td>\n",
              "      <td>789.0</td>\n",
              "      <td>0.0</td>\n",
              "      <td>NaN</td>\n",
              "      <td>NaN</td>\n",
              "      <td>13.0</td>\n",
              "      <td>0.0</td>\n",
              "      <td>7802.0</td>\n",
              "      <td>11.6</td>\n",
              "      <td>17.0</td>\n",
              "      <td>w</td>\n",
              "      <td>15897.65</td>\n",
              "      <td>15897.65</td>\n",
              "      <td>...</td>\n",
              "      <td>381215.0</td>\n",
              "      <td>52226.0</td>\n",
              "      <td>62500.0</td>\n",
              "      <td>18000.0</td>\n",
              "      <td>NaN</td>\n",
              "      <td>NaN</td>\n",
              "      <td>NaN</td>\n",
              "      <td>NaN</td>\n",
              "      <td>NaN</td>\n",
              "      <td>NaN</td>\n",
              "      <td>NaN</td>\n",
              "      <td>NaN</td>\n",
              "      <td>NaN</td>\n",
              "      <td>NaN</td>\n",
              "      <td>NaN</td>\n",
              "      <td>NaN</td>\n",
              "      <td>NaN</td>\n",
              "      <td>N</td>\n",
              "      <td>NaN</td>\n",
              "      <td>NaN</td>\n",
              "      <td>NaN</td>\n",
              "      <td>NaN</td>\n",
              "      <td>NaN</td>\n",
              "      <td>NaN</td>\n",
              "      <td>NaN</td>\n",
              "      <td>NaN</td>\n",
              "      <td>NaN</td>\n",
              "      <td>NaN</td>\n",
              "      <td>NaN</td>\n",
              "      <td>NaN</td>\n",
              "      <td>NaN</td>\n",
              "      <td>NaN</td>\n",
              "      <td>Cash</td>\n",
              "      <td>N</td>\n",
              "      <td>NaN</td>\n",
              "      <td>NaN</td>\n",
              "      <td>NaN</td>\n",
              "      <td>NaN</td>\n",
              "      <td>NaN</td>\n",
              "      <td>NaN</td>\n",
              "    </tr>\n",
              "    <tr>\n",
              "      <th>4</th>\n",
              "      <td>68476807</td>\n",
              "      <td>NaN</td>\n",
              "      <td>10400.0</td>\n",
              "      <td>10400.0</td>\n",
              "      <td>10400.0</td>\n",
              "      <td>60 months</td>\n",
              "      <td>22.45</td>\n",
              "      <td>289.91</td>\n",
              "      <td>F</td>\n",
              "      <td>F1</td>\n",
              "      <td>Contract Specialist</td>\n",
              "      <td>3 years</td>\n",
              "      <td>MORTGAGE</td>\n",
              "      <td>104433.0</td>\n",
              "      <td>Source Verified</td>\n",
              "      <td>Dec-2015</td>\n",
              "      <td>Fully Paid</td>\n",
              "      <td>n</td>\n",
              "      <td>https://lendingclub.com/browse/loanDetail.acti...</td>\n",
              "      <td>NaN</td>\n",
              "      <td>major_purchase</td>\n",
              "      <td>Major purchase</td>\n",
              "      <td>174xx</td>\n",
              "      <td>PA</td>\n",
              "      <td>25.37</td>\n",
              "      <td>1.0</td>\n",
              "      <td>Jun-1998</td>\n",
              "      <td>695.0</td>\n",
              "      <td>699.0</td>\n",
              "      <td>3.0</td>\n",
              "      <td>12.0</td>\n",
              "      <td>NaN</td>\n",
              "      <td>12.0</td>\n",
              "      <td>0.0</td>\n",
              "      <td>21929.0</td>\n",
              "      <td>64.5</td>\n",
              "      <td>35.0</td>\n",
              "      <td>w</td>\n",
              "      <td>0.00</td>\n",
              "      <td>0.00</td>\n",
              "      <td>...</td>\n",
              "      <td>439570.0</td>\n",
              "      <td>95768.0</td>\n",
              "      <td>20300.0</td>\n",
              "      <td>88097.0</td>\n",
              "      <td>NaN</td>\n",
              "      <td>NaN</td>\n",
              "      <td>NaN</td>\n",
              "      <td>NaN</td>\n",
              "      <td>NaN</td>\n",
              "      <td>NaN</td>\n",
              "      <td>NaN</td>\n",
              "      <td>NaN</td>\n",
              "      <td>NaN</td>\n",
              "      <td>NaN</td>\n",
              "      <td>NaN</td>\n",
              "      <td>NaN</td>\n",
              "      <td>NaN</td>\n",
              "      <td>N</td>\n",
              "      <td>NaN</td>\n",
              "      <td>NaN</td>\n",
              "      <td>NaN</td>\n",
              "      <td>NaN</td>\n",
              "      <td>NaN</td>\n",
              "      <td>NaN</td>\n",
              "      <td>NaN</td>\n",
              "      <td>NaN</td>\n",
              "      <td>NaN</td>\n",
              "      <td>NaN</td>\n",
              "      <td>NaN</td>\n",
              "      <td>NaN</td>\n",
              "      <td>NaN</td>\n",
              "      <td>NaN</td>\n",
              "      <td>Cash</td>\n",
              "      <td>N</td>\n",
              "      <td>NaN</td>\n",
              "      <td>NaN</td>\n",
              "      <td>NaN</td>\n",
              "      <td>NaN</td>\n",
              "      <td>NaN</td>\n",
              "      <td>NaN</td>\n",
              "    </tr>\n",
              "  </tbody>\n",
              "</table>\n",
              "<p>5 rows × 151 columns</p>\n",
              "</div>"
            ],
            "text/plain": [
              "         id  member_id  ...  settlement_percentage  settlement_term\n",
              "0  68407277        NaN  ...                    NaN              NaN\n",
              "1  68355089        NaN  ...                    NaN              NaN\n",
              "2  68341763        NaN  ...                    NaN              NaN\n",
              "3  66310712        NaN  ...                    NaN              NaN\n",
              "4  68476807        NaN  ...                    NaN              NaN\n",
              "\n",
              "[5 rows x 151 columns]"
            ]
          },
          "metadata": {
            "tags": []
          },
          "execution_count": 2
        }
      ]
    },
    {
      "cell_type": "code",
      "metadata": {
        "colab": {
          "base_uri": "https://localhost:8080/"
        },
        "id": "5hzYS-eI-GkP",
        "outputId": "a2c96629-8e14-48e2-aca6-70da9b16327f"
      },
      "source": [
        "for col in accepted.columns:\n",
        "  print(col)"
      ],
      "execution_count": null,
      "outputs": [
        {
          "output_type": "stream",
          "text": [
            "id\n",
            "member_id\n",
            "loan_amnt\n",
            "funded_amnt\n",
            "funded_amnt_inv\n",
            "term\n",
            "int_rate\n",
            "installment\n",
            "grade\n",
            "sub_grade\n",
            "emp_title\n",
            "emp_length\n",
            "home_ownership\n",
            "annual_inc\n",
            "verification_status\n",
            "issue_d\n",
            "loan_status\n",
            "pymnt_plan\n",
            "url\n",
            "desc\n",
            "purpose\n",
            "title\n",
            "zip_code\n",
            "addr_state\n",
            "dti\n",
            "delinq_2yrs\n",
            "earliest_cr_line\n",
            "fico_range_low\n",
            "fico_range_high\n",
            "inq_last_6mths\n",
            "mths_since_last_delinq\n",
            "mths_since_last_record\n",
            "open_acc\n",
            "pub_rec\n",
            "revol_bal\n",
            "revol_util\n",
            "total_acc\n",
            "initial_list_status\n",
            "out_prncp\n",
            "out_prncp_inv\n",
            "total_pymnt\n",
            "total_pymnt_inv\n",
            "total_rec_prncp\n",
            "total_rec_int\n",
            "total_rec_late_fee\n",
            "recoveries\n",
            "collection_recovery_fee\n",
            "last_pymnt_d\n",
            "last_pymnt_amnt\n",
            "next_pymnt_d\n",
            "last_credit_pull_d\n",
            "last_fico_range_high\n",
            "last_fico_range_low\n",
            "collections_12_mths_ex_med\n",
            "mths_since_last_major_derog\n",
            "policy_code\n",
            "application_type\n",
            "annual_inc_joint\n",
            "dti_joint\n",
            "verification_status_joint\n",
            "acc_now_delinq\n",
            "tot_coll_amt\n",
            "tot_cur_bal\n",
            "open_acc_6m\n",
            "open_act_il\n",
            "open_il_12m\n",
            "open_il_24m\n",
            "mths_since_rcnt_il\n",
            "total_bal_il\n",
            "il_util\n",
            "open_rv_12m\n",
            "open_rv_24m\n",
            "max_bal_bc\n",
            "all_util\n",
            "total_rev_hi_lim\n",
            "inq_fi\n",
            "total_cu_tl\n",
            "inq_last_12m\n",
            "acc_open_past_24mths\n",
            "avg_cur_bal\n",
            "bc_open_to_buy\n",
            "bc_util\n",
            "chargeoff_within_12_mths\n",
            "delinq_amnt\n",
            "mo_sin_old_il_acct\n",
            "mo_sin_old_rev_tl_op\n",
            "mo_sin_rcnt_rev_tl_op\n",
            "mo_sin_rcnt_tl\n",
            "mort_acc\n",
            "mths_since_recent_bc\n",
            "mths_since_recent_bc_dlq\n",
            "mths_since_recent_inq\n",
            "mths_since_recent_revol_delinq\n",
            "num_accts_ever_120_pd\n",
            "num_actv_bc_tl\n",
            "num_actv_rev_tl\n",
            "num_bc_sats\n",
            "num_bc_tl\n",
            "num_il_tl\n",
            "num_op_rev_tl\n",
            "num_rev_accts\n",
            "num_rev_tl_bal_gt_0\n",
            "num_sats\n",
            "num_tl_120dpd_2m\n",
            "num_tl_30dpd\n",
            "num_tl_90g_dpd_24m\n",
            "num_tl_op_past_12m\n",
            "pct_tl_nvr_dlq\n",
            "percent_bc_gt_75\n",
            "pub_rec_bankruptcies\n",
            "tax_liens\n",
            "tot_hi_cred_lim\n",
            "total_bal_ex_mort\n",
            "total_bc_limit\n",
            "total_il_high_credit_limit\n",
            "revol_bal_joint\n",
            "sec_app_fico_range_low\n",
            "sec_app_fico_range_high\n",
            "sec_app_earliest_cr_line\n",
            "sec_app_inq_last_6mths\n",
            "sec_app_mort_acc\n",
            "sec_app_open_acc\n",
            "sec_app_revol_util\n",
            "sec_app_open_act_il\n",
            "sec_app_num_rev_accts\n",
            "sec_app_chargeoff_within_12_mths\n",
            "sec_app_collections_12_mths_ex_med\n",
            "sec_app_mths_since_last_major_derog\n",
            "hardship_flag\n",
            "hardship_type\n",
            "hardship_reason\n",
            "hardship_status\n",
            "deferral_term\n",
            "hardship_amount\n",
            "hardship_start_date\n",
            "hardship_end_date\n",
            "payment_plan_start_date\n",
            "hardship_length\n",
            "hardship_dpd\n",
            "hardship_loan_status\n",
            "orig_projected_additional_accrued_interest\n",
            "hardship_payoff_balance_amount\n",
            "hardship_last_payment_amount\n",
            "disbursement_method\n",
            "debt_settlement_flag\n",
            "debt_settlement_flag_date\n",
            "settlement_status\n",
            "settlement_date\n",
            "settlement_amount\n",
            "settlement_percentage\n",
            "settlement_term\n"
          ],
          "name": "stdout"
        }
      ]
    },
    {
      "cell_type": "code",
      "metadata": {
        "id": "Y9xLG4ESC2oo"
      },
      "source": [
        "cols = [0,2,3,5,6,7,8,9,10,11,12,13,14,16]\n",
        "new_accepted = accepted[accepted.columns[cols]]"
      ],
      "execution_count": null,
      "outputs": []
    },
    {
      "cell_type": "code",
      "metadata": {
        "colab": {
          "base_uri": "https://localhost:8080/",
          "height": 326
        },
        "id": "7N2Pt5fZDhE3",
        "outputId": "e45c9da6-81c4-4a5b-fe77-c022f482285f"
      },
      "source": [
        "new_accepted.head(5)"
      ],
      "execution_count": null,
      "outputs": [
        {
          "output_type": "execute_result",
          "data": {
            "text/html": [
              "<div>\n",
              "<style scoped>\n",
              "    .dataframe tbody tr th:only-of-type {\n",
              "        vertical-align: middle;\n",
              "    }\n",
              "\n",
              "    .dataframe tbody tr th {\n",
              "        vertical-align: top;\n",
              "    }\n",
              "\n",
              "    .dataframe thead th {\n",
              "        text-align: right;\n",
              "    }\n",
              "</style>\n",
              "<table border=\"1\" class=\"dataframe\">\n",
              "  <thead>\n",
              "    <tr style=\"text-align: right;\">\n",
              "      <th></th>\n",
              "      <th>id</th>\n",
              "      <th>loan_amnt</th>\n",
              "      <th>funded_amnt</th>\n",
              "      <th>term</th>\n",
              "      <th>int_rate</th>\n",
              "      <th>installment</th>\n",
              "      <th>grade</th>\n",
              "      <th>sub_grade</th>\n",
              "      <th>emp_title</th>\n",
              "      <th>emp_length</th>\n",
              "      <th>home_ownership</th>\n",
              "      <th>annual_inc</th>\n",
              "      <th>verification_status</th>\n",
              "      <th>loan_status</th>\n",
              "    </tr>\n",
              "  </thead>\n",
              "  <tbody>\n",
              "    <tr>\n",
              "      <th>0</th>\n",
              "      <td>68407277</td>\n",
              "      <td>3600.0</td>\n",
              "      <td>3600.0</td>\n",
              "      <td>36 months</td>\n",
              "      <td>13.99</td>\n",
              "      <td>123.03</td>\n",
              "      <td>C</td>\n",
              "      <td>C4</td>\n",
              "      <td>leadman</td>\n",
              "      <td>10+ years</td>\n",
              "      <td>MORTGAGE</td>\n",
              "      <td>55000.0</td>\n",
              "      <td>Not Verified</td>\n",
              "      <td>Fully Paid</td>\n",
              "    </tr>\n",
              "    <tr>\n",
              "      <th>1</th>\n",
              "      <td>68355089</td>\n",
              "      <td>24700.0</td>\n",
              "      <td>24700.0</td>\n",
              "      <td>36 months</td>\n",
              "      <td>11.99</td>\n",
              "      <td>820.28</td>\n",
              "      <td>C</td>\n",
              "      <td>C1</td>\n",
              "      <td>Engineer</td>\n",
              "      <td>10+ years</td>\n",
              "      <td>MORTGAGE</td>\n",
              "      <td>65000.0</td>\n",
              "      <td>Not Verified</td>\n",
              "      <td>Fully Paid</td>\n",
              "    </tr>\n",
              "    <tr>\n",
              "      <th>2</th>\n",
              "      <td>68341763</td>\n",
              "      <td>20000.0</td>\n",
              "      <td>20000.0</td>\n",
              "      <td>60 months</td>\n",
              "      <td>10.78</td>\n",
              "      <td>432.66</td>\n",
              "      <td>B</td>\n",
              "      <td>B4</td>\n",
              "      <td>truck driver</td>\n",
              "      <td>10+ years</td>\n",
              "      <td>MORTGAGE</td>\n",
              "      <td>63000.0</td>\n",
              "      <td>Not Verified</td>\n",
              "      <td>Fully Paid</td>\n",
              "    </tr>\n",
              "    <tr>\n",
              "      <th>3</th>\n",
              "      <td>66310712</td>\n",
              "      <td>35000.0</td>\n",
              "      <td>35000.0</td>\n",
              "      <td>60 months</td>\n",
              "      <td>14.85</td>\n",
              "      <td>829.90</td>\n",
              "      <td>C</td>\n",
              "      <td>C5</td>\n",
              "      <td>Information Systems Officer</td>\n",
              "      <td>10+ years</td>\n",
              "      <td>MORTGAGE</td>\n",
              "      <td>110000.0</td>\n",
              "      <td>Source Verified</td>\n",
              "      <td>Current</td>\n",
              "    </tr>\n",
              "    <tr>\n",
              "      <th>4</th>\n",
              "      <td>68476807</td>\n",
              "      <td>10400.0</td>\n",
              "      <td>10400.0</td>\n",
              "      <td>60 months</td>\n",
              "      <td>22.45</td>\n",
              "      <td>289.91</td>\n",
              "      <td>F</td>\n",
              "      <td>F1</td>\n",
              "      <td>Contract Specialist</td>\n",
              "      <td>3 years</td>\n",
              "      <td>MORTGAGE</td>\n",
              "      <td>104433.0</td>\n",
              "      <td>Source Verified</td>\n",
              "      <td>Fully Paid</td>\n",
              "    </tr>\n",
              "  </tbody>\n",
              "</table>\n",
              "</div>"
            ],
            "text/plain": [
              "         id  loan_amnt  funded_amnt  ... annual_inc  verification_status  loan_status\n",
              "0  68407277     3600.0       3600.0  ...    55000.0         Not Verified   Fully Paid\n",
              "1  68355089    24700.0      24700.0  ...    65000.0         Not Verified   Fully Paid\n",
              "2  68341763    20000.0      20000.0  ...    63000.0         Not Verified   Fully Paid\n",
              "3  66310712    35000.0      35000.0  ...   110000.0      Source Verified      Current\n",
              "4  68476807    10400.0      10400.0  ...   104433.0      Source Verified   Fully Paid\n",
              "\n",
              "[5 rows x 14 columns]"
            ]
          },
          "metadata": {
            "tags": []
          },
          "execution_count": 5
        }
      ]
    },
    {
      "cell_type": "code",
      "metadata": {
        "colab": {
          "base_uri": "https://localhost:8080/"
        },
        "id": "JesyA3a_O4oa",
        "outputId": "b807cd5c-7566-4b37-adfe-f486265e6c7e"
      },
      "source": [
        "new_accepted.isnull().sum()"
      ],
      "execution_count": null,
      "outputs": [
        {
          "output_type": "execute_result",
          "data": {
            "text/plain": [
              "id                       0\n",
              "loan_amnt                0\n",
              "funded_amnt              0\n",
              "term                     0\n",
              "int_rate                 0\n",
              "installment              0\n",
              "grade                    0\n",
              "sub_grade                0\n",
              "emp_title              846\n",
              "emp_length             838\n",
              "home_ownership           0\n",
              "annual_inc               0\n",
              "verification_status      0\n",
              "loan_status              0\n",
              "dtype: int64"
            ]
          },
          "metadata": {
            "tags": []
          },
          "execution_count": 6
        }
      ]
    },
    {
      "cell_type": "code",
      "metadata": {
        "colab": {
          "base_uri": "https://localhost:8080/"
        },
        "id": "gAEbme6lO-6-",
        "outputId": "a54871c3-562a-4e9a-bb58-f0395777d6e3"
      },
      "source": [
        "new_accepted = new_accepted.dropna()\n",
        "new_accepted.isnull().sum()"
      ],
      "execution_count": null,
      "outputs": [
        {
          "output_type": "execute_result",
          "data": {
            "text/plain": [
              "id                     0\n",
              "loan_amnt              0\n",
              "funded_amnt            0\n",
              "term                   0\n",
              "int_rate               0\n",
              "installment            0\n",
              "grade                  0\n",
              "sub_grade              0\n",
              "emp_title              0\n",
              "emp_length             0\n",
              "home_ownership         0\n",
              "annual_inc             0\n",
              "verification_status    0\n",
              "loan_status            0\n",
              "dtype: int64"
            ]
          },
          "metadata": {
            "tags": []
          },
          "execution_count": 7
        }
      ]
    },
    {
      "cell_type": "code",
      "metadata": {
        "colab": {
          "base_uri": "https://localhost:8080/"
        },
        "id": "gH3VUCGvKm2M",
        "outputId": "8fe5bdd5-ba0d-4523-9c46-05d04739ca38"
      },
      "source": [
        "new_accepted.home_ownership.unique()"
      ],
      "execution_count": null,
      "outputs": [
        {
          "output_type": "execute_result",
          "data": {
            "text/plain": [
              "array(['MORTGAGE', 'RENT', 'OWN'], dtype=object)"
            ]
          },
          "metadata": {
            "tags": []
          },
          "execution_count": 8
        }
      ]
    },
    {
      "cell_type": "code",
      "metadata": {
        "id": "Jv7QHOCx44Xb",
        "colab": {
          "base_uri": "https://localhost:8080/"
        },
        "outputId": "5e551fc1-cf92-413c-b1b3-dd7986bc1603"
      },
      "source": [
        "new_accepted['loan_status'].unique()"
      ],
      "execution_count": null,
      "outputs": [
        {
          "output_type": "execute_result",
          "data": {
            "text/plain": [
              "array(['Fully Paid', 'Current', 'Charged Off', 'In Grace Period',\n",
              "       'Late (31-120 days)', 'Late (16-30 days)'], dtype=object)"
            ]
          },
          "metadata": {
            "tags": []
          },
          "execution_count": 9
        }
      ]
    },
    {
      "cell_type": "code",
      "metadata": {
        "id": "rRvbsYdW7HGZ",
        "colab": {
          "base_uri": "https://localhost:8080/"
        },
        "outputId": "58644476-862d-4435-eb2b-32e0adcc404f"
      },
      "source": [
        "new_accepted = new_accepted.loc[new_accepted['loan_status'].isin(['Fully Paid', 'Charged Off'])]\n",
        "new_accepted['loan_status'].unique()"
      ],
      "execution_count": null,
      "outputs": [
        {
          "output_type": "execute_result",
          "data": {
            "text/plain": [
              "array(['Fully Paid', 'Charged Off'], dtype=object)"
            ]
          },
          "metadata": {
            "tags": []
          },
          "execution_count": 10
        }
      ]
    },
    {
      "cell_type": "code",
      "metadata": {
        "id": "3FKzE1y77ZTN",
        "colab": {
          "base_uri": "https://localhost:8080/",
          "height": 303
        },
        "outputId": "1f0a32ed-cbd4-4fdd-9f44-087742624f5c"
      },
      "source": [
        "status_counts = new_accepted['loan_status'].value_counts()\n",
        "explode = (0, 0.1)\n",
        "labels = 'Fully Paid', 'Charged Off'\n",
        "\n",
        "plt.figure(figsize=(10,5))\n",
        "plt.pie(status_counts, explode=explode, labels=labels, autopct='%1.1f%%',shadow=True, startangle=90)\n",
        "plt.axis('equal')\n",
        "plt.show()"
      ],
      "execution_count": null,
      "outputs": [
        {
          "output_type": "display_data",
          "data": {
            "image/png": "[encoded data removed]",
            "text/plain": [
              "<Figure size 720x360 with 1 Axes>"
            ]
          },
          "metadata": {
            "tags": []
          }
        }
      ]
    },
    {
      "cell_type": "code",
      "metadata": {
        "id": "W6HSVfq9KZk3",
        "colab": {
          "base_uri": "https://localhost:8080/",
          "height": 531
        },
        "outputId": "0e9c2983-5d2c-4e66-caba-5b8d7f26b606"
      },
      "source": [
        "plt.figure(figsize=(10,8))\n",
        "sns.lineplot(x='int_rate',y='installment',hue='home_ownership',data=new_accepted)\n",
        "plt.title('Interest rate in installments')"
      ],
      "execution_count": null,
      "outputs": [
        {
          "output_type": "execute_result",
          "data": {
            "text/plain": [
              "Text(0.5, 1.0, 'Interest rate in installments')"
            ]
          },
          "metadata": {
            "tags": []
          },
          "execution_count": 14
        },
        {
          "output_type": "display_data",
          "data": {
            "image/png": "[encoded data removed]",
            "text/plain": [
              "<Figure size 720x576 with 1 Axes>"
            ]
          },
          "metadata": {
            "tags": [],
            "needs_background": "light"
          }
        }
      ]
    },
    {
      "cell_type": "code",
      "metadata": {
        "id": "oibZtoo0TWqs",
        "colab": {
          "base_uri": "https://localhost:8080/",
          "height": 309
        },
        "outputId": "a974f699-a894-48a6-b7b2-0a14f0fd2749"
      },
      "source": [
        "new_accepted.head()"
      ],
      "execution_count": null,
      "outputs": [
        {
          "output_type": "execute_result",
          "data": {
            "text/html": [
              "<div>\n",
              "<style scoped>\n",
              "    .dataframe tbody tr th:only-of-type {\n",
              "        vertical-align: middle;\n",
              "    }\n",
              "\n",
              "    .dataframe tbody tr th {\n",
              "        vertical-align: top;\n",
              "    }\n",
              "\n",
              "    .dataframe thead th {\n",
              "        text-align: right;\n",
              "    }\n",
              "</style>\n",
              "<table border=\"1\" class=\"dataframe\">\n",
              "  <thead>\n",
              "    <tr style=\"text-align: right;\">\n",
              "      <th></th>\n",
              "      <th>id</th>\n",
              "      <th>loan_amnt</th>\n",
              "      <th>funded_amnt</th>\n",
              "      <th>term</th>\n",
              "      <th>int_rate</th>\n",
              "      <th>installment</th>\n",
              "      <th>grade</th>\n",
              "      <th>sub_grade</th>\n",
              "      <th>emp_title</th>\n",
              "      <th>emp_length</th>\n",
              "      <th>home_ownership</th>\n",
              "      <th>annual_inc</th>\n",
              "      <th>verification_status</th>\n",
              "      <th>loan_status</th>\n",
              "    </tr>\n",
              "  </thead>\n",
              "  <tbody>\n",
              "    <tr>\n",
              "      <th>0</th>\n",
              "      <td>68407277</td>\n",
              "      <td>3600.0</td>\n",
              "      <td>3600.0</td>\n",
              "      <td>36 months</td>\n",
              "      <td>13.99</td>\n",
              "      <td>123.03</td>\n",
              "      <td>C</td>\n",
              "      <td>C4</td>\n",
              "      <td>leadman</td>\n",
              "      <td>10+ years</td>\n",
              "      <td>MORTGAGE</td>\n",
              "      <td>55000.0</td>\n",
              "      <td>Not Verified</td>\n",
              "      <td>Fully Paid</td>\n",
              "    </tr>\n",
              "    <tr>\n",
              "      <th>1</th>\n",
              "      <td>68355089</td>\n",
              "      <td>24700.0</td>\n",
              "      <td>24700.0</td>\n",
              "      <td>36 months</td>\n",
              "      <td>11.99</td>\n",
              "      <td>820.28</td>\n",
              "      <td>C</td>\n",
              "      <td>C1</td>\n",
              "      <td>Engineer</td>\n",
              "      <td>10+ years</td>\n",
              "      <td>MORTGAGE</td>\n",
              "      <td>65000.0</td>\n",
              "      <td>Not Verified</td>\n",
              "      <td>Fully Paid</td>\n",
              "    </tr>\n",
              "    <tr>\n",
              "      <th>2</th>\n",
              "      <td>68341763</td>\n",
              "      <td>20000.0</td>\n",
              "      <td>20000.0</td>\n",
              "      <td>60 months</td>\n",
              "      <td>10.78</td>\n",
              "      <td>432.66</td>\n",
              "      <td>B</td>\n",
              "      <td>B4</td>\n",
              "      <td>truck driver</td>\n",
              "      <td>10+ years</td>\n",
              "      <td>MORTGAGE</td>\n",
              "      <td>63000.0</td>\n",
              "      <td>Not Verified</td>\n",
              "      <td>Fully Paid</td>\n",
              "    </tr>\n",
              "    <tr>\n",
              "      <th>4</th>\n",
              "      <td>68476807</td>\n",
              "      <td>10400.0</td>\n",
              "      <td>10400.0</td>\n",
              "      <td>60 months</td>\n",
              "      <td>22.45</td>\n",
              "      <td>289.91</td>\n",
              "      <td>F</td>\n",
              "      <td>F1</td>\n",
              "      <td>Contract Specialist</td>\n",
              "      <td>3 years</td>\n",
              "      <td>MORTGAGE</td>\n",
              "      <td>104433.0</td>\n",
              "      <td>Source Verified</td>\n",
              "      <td>Fully Paid</td>\n",
              "    </tr>\n",
              "    <tr>\n",
              "      <th>5</th>\n",
              "      <td>68426831</td>\n",
              "      <td>11950.0</td>\n",
              "      <td>11950.0</td>\n",
              "      <td>36 months</td>\n",
              "      <td>13.44</td>\n",
              "      <td>405.18</td>\n",
              "      <td>C</td>\n",
              "      <td>C3</td>\n",
              "      <td>Veterinary Tecnician</td>\n",
              "      <td>4 years</td>\n",
              "      <td>RENT</td>\n",
              "      <td>34000.0</td>\n",
              "      <td>Source Verified</td>\n",
              "      <td>Fully Paid</td>\n",
              "    </tr>\n",
              "  </tbody>\n",
              "</table>\n",
              "</div>"
            ],
            "text/plain": [
              "         id  loan_amnt  funded_amnt  ... annual_inc  verification_status  loan_status\n",
              "0  68407277     3600.0       3600.0  ...    55000.0         Not Verified   Fully Paid\n",
              "1  68355089    24700.0      24700.0  ...    65000.0         Not Verified   Fully Paid\n",
              "2  68341763    20000.0      20000.0  ...    63000.0         Not Verified   Fully Paid\n",
              "4  68476807    10400.0      10400.0  ...   104433.0      Source Verified   Fully Paid\n",
              "5  68426831    11950.0      11950.0  ...    34000.0      Source Verified   Fully Paid\n",
              "\n",
              "[5 rows x 14 columns]"
            ]
          },
          "metadata": {
            "tags": []
          },
          "execution_count": 12
        }
      ]
    },
    {
      "cell_type": "code",
      "metadata": {
        "id": "I-Wtpl2MZIYs",
        "colab": {
          "base_uri": "https://localhost:8080/",
          "height": 111
        },
        "outputId": "46f6e147-6a91-427f-b386-6bf57cef5c51"
      },
      "source": [
        "new_accepted['term'] = new_accepted['term'].str.replace('months',' ')\n",
        "new_accepted['emp_length'] = new_accepted['emp_length'].str.replace('years',' ')\n",
        "new_accepted.drop(['grade','sub_grade'],axis=1,inplace=True)\n",
        "\n",
        "new_accepted.head(2)"
      ],
      "execution_count": null,
      "outputs": [
        {
          "output_type": "execute_result",
          "data": {
            "text/html": [
              "<div>\n",
              "<style scoped>\n",
              "    .dataframe tbody tr th:only-of-type {\n",
              "        vertical-align: middle;\n",
              "    }\n",
              "\n",
              "    .dataframe tbody tr th {\n",
              "        vertical-align: top;\n",
              "    }\n",
              "\n",
              "    .dataframe thead th {\n",
              "        text-align: right;\n",
              "    }\n",
              "</style>\n",
              "<table border=\"1\" class=\"dataframe\">\n",
              "  <thead>\n",
              "    <tr style=\"text-align: right;\">\n",
              "      <th></th>\n",
              "      <th>id</th>\n",
              "      <th>loan_amnt</th>\n",
              "      <th>funded_amnt</th>\n",
              "      <th>term</th>\n",
              "      <th>int_rate</th>\n",
              "      <th>installment</th>\n",
              "      <th>emp_title</th>\n",
              "      <th>emp_length</th>\n",
              "      <th>home_ownership</th>\n",
              "      <th>annual_inc</th>\n",
              "      <th>verification_status</th>\n",
              "      <th>loan_status</th>\n",
              "    </tr>\n",
              "  </thead>\n",
              "  <tbody>\n",
              "    <tr>\n",
              "      <th>0</th>\n",
              "      <td>68407277</td>\n",
              "      <td>3600.0</td>\n",
              "      <td>3600.0</td>\n",
              "      <td>36</td>\n",
              "      <td>13.99</td>\n",
              "      <td>123.03</td>\n",
              "      <td>leadman</td>\n",
              "      <td>10+</td>\n",
              "      <td>MORTGAGE</td>\n",
              "      <td>55000.0</td>\n",
              "      <td>Not Verified</td>\n",
              "      <td>Fully Paid</td>\n",
              "    </tr>\n",
              "    <tr>\n",
              "      <th>1</th>\n",
              "      <td>68355089</td>\n",
              "      <td>24700.0</td>\n",
              "      <td>24700.0</td>\n",
              "      <td>36</td>\n",
              "      <td>11.99</td>\n",
              "      <td>820.28</td>\n",
              "      <td>Engineer</td>\n",
              "      <td>10+</td>\n",
              "      <td>MORTGAGE</td>\n",
              "      <td>65000.0</td>\n",
              "      <td>Not Verified</td>\n",
              "      <td>Fully Paid</td>\n",
              "    </tr>\n",
              "  </tbody>\n",
              "</table>\n",
              "</div>"
            ],
            "text/plain": [
              "         id  loan_amnt  funded_amnt  ... annual_inc  verification_status  loan_status\n",
              "0  68407277     3600.0       3600.0  ...    55000.0         Not Verified   Fully Paid\n",
              "1  68355089    24700.0      24700.0  ...    65000.0         Not Verified   Fully Paid\n",
              "\n",
              "[2 rows x 12 columns]"
            ]
          },
          "metadata": {
            "tags": []
          },
          "execution_count": 13
        }
      ]
    },
    {
      "cell_type": "code",
      "metadata": {
        "id": "gt6HyNKYbLOL"
      },
      "source": [
        "new_accepted['emp_length'] = new_accepted['emp_length'].str.replace(r'\\D', '')"
      ],
      "execution_count": null,
      "outputs": []
    },
    {
      "cell_type": "code",
      "metadata": {
        "id": "EaRIEDf9TZj3"
      },
      "source": [
        "X = new_accepted.drop(['loan_status'],axis=1)\n",
        "\n",
        "y = new_accepted['loan_status']"
      ],
      "execution_count": null,
      "outputs": []
    },
    {
      "cell_type": "code",
      "metadata": {
        "id": "w5WIPPxlXOvS",
        "colab": {
          "base_uri": "https://localhost:8080/",
          "height": 204
        },
        "outputId": "3e833c8e-f08b-4949-8f68-2ff71a9b5015"
      },
      "source": [
        "X.tail(5)"
      ],
      "execution_count": null,
      "outputs": [
        {
          "output_type": "execute_result",
          "data": {
            "text/html": [
              "<div>\n",
              "<style scoped>\n",
              "    .dataframe tbody tr th:only-of-type {\n",
              "        vertical-align: middle;\n",
              "    }\n",
              "\n",
              "    .dataframe tbody tr th {\n",
              "        vertical-align: top;\n",
              "    }\n",
              "\n",
              "    .dataframe thead th {\n",
              "        text-align: right;\n",
              "    }\n",
              "</style>\n",
              "<table border=\"1\" class=\"dataframe\">\n",
              "  <thead>\n",
              "    <tr style=\"text-align: right;\">\n",
              "      <th></th>\n",
              "      <th>id</th>\n",
              "      <th>loan_amnt</th>\n",
              "      <th>funded_amnt</th>\n",
              "      <th>term</th>\n",
              "      <th>int_rate</th>\n",
              "      <th>installment</th>\n",
              "      <th>emp_title</th>\n",
              "      <th>emp_length</th>\n",
              "      <th>home_ownership</th>\n",
              "      <th>annual_inc</th>\n",
              "      <th>verification_status</th>\n",
              "    </tr>\n",
              "  </thead>\n",
              "  <tbody>\n",
              "    <tr>\n",
              "      <th>14010</th>\n",
              "      <td>67379109</td>\n",
              "      <td>4900.0</td>\n",
              "      <td>4900.0</td>\n",
              "      <td>36</td>\n",
              "      <td>11.22</td>\n",
              "      <td>160.94</td>\n",
              "      <td>Carrier</td>\n",
              "      <td>10</td>\n",
              "      <td>MORTGAGE</td>\n",
              "      <td>78000.0</td>\n",
              "      <td>Verified</td>\n",
              "    </tr>\n",
              "    <tr>\n",
              "      <th>14012</th>\n",
              "      <td>67398201</td>\n",
              "      <td>30000.0</td>\n",
              "      <td>30000.0</td>\n",
              "      <td>36</td>\n",
              "      <td>8.38</td>\n",
              "      <td>945.36</td>\n",
              "      <td>First vice president</td>\n",
              "      <td>2</td>\n",
              "      <td>RENT</td>\n",
              "      <td>160000.0</td>\n",
              "      <td>Verified</td>\n",
              "    </tr>\n",
              "    <tr>\n",
              "      <th>14013</th>\n",
              "      <td>67458749</td>\n",
              "      <td>35000.0</td>\n",
              "      <td>35000.0</td>\n",
              "      <td>60</td>\n",
              "      <td>12.59</td>\n",
              "      <td>789.04</td>\n",
              "      <td>Sales Manager</td>\n",
              "      <td>3</td>\n",
              "      <td>RENT</td>\n",
              "      <td>125000.0</td>\n",
              "      <td>Source Verified</td>\n",
              "    </tr>\n",
              "    <tr>\n",
              "      <th>14014</th>\n",
              "      <td>67298545</td>\n",
              "      <td>6000.0</td>\n",
              "      <td>6000.0</td>\n",
              "      <td>36</td>\n",
              "      <td>9.76</td>\n",
              "      <td>192.93</td>\n",
              "      <td>Teacher</td>\n",
              "      <td>6</td>\n",
              "      <td>RENT</td>\n",
              "      <td>57000.0</td>\n",
              "      <td>Verified</td>\n",
              "    </tr>\n",
              "    <tr>\n",
              "      <th>14015</th>\n",
              "      <td>67298614</td>\n",
              "      <td>7800.0</td>\n",
              "      <td>7800.0</td>\n",
              "      <td>36</td>\n",
              "      <td>9.17</td>\n",
              "      <td>248.66</td>\n",
              "      <td>RN</td>\n",
              "      <td>7</td>\n",
              "      <td>RENT</td>\n",
              "      <td>52000.0</td>\n",
              "      <td>Source Verified</td>\n",
              "    </tr>\n",
              "  </tbody>\n",
              "</table>\n",
              "</div>"
            ],
            "text/plain": [
              "             id  loan_amnt  ...  annual_inc verification_status\n",
              "14010  67379109     4900.0  ...     78000.0            Verified\n",
              "14012  67398201    30000.0  ...    160000.0            Verified\n",
              "14013  67458749    35000.0  ...    125000.0     Source Verified\n",
              "14014  67298545     6000.0  ...     57000.0            Verified\n",
              "14015  67298614     7800.0  ...     52000.0     Source Verified\n",
              "\n",
              "[5 rows x 11 columns]"
            ]
          },
          "metadata": {
            "tags": []
          },
          "execution_count": 16
        }
      ]
    },
    {
      "cell_type": "code",
      "metadata": {
        "id": "wKZFsEBgJFNw",
        "colab": {
          "base_uri": "https://localhost:8080/",
          "height": 204
        },
        "outputId": "0f8b168c-8ba8-4821-eb54-a5c30fcbc63c"
      },
      "source": [
        "from sklearn.preprocessing import LabelEncoder\n",
        "le = LabelEncoder()\n",
        "\n",
        "for col in X.columns:\n",
        "  X[str(col)] = le.fit_transform(X[str(col)])\n",
        "\n",
        "X.tail(5)"
      ],
      "execution_count": null,
      "outputs": [
        {
          "output_type": "execute_result",
          "data": {
            "text/html": [
              "<div>\n",
              "<style scoped>\n",
              "    .dataframe tbody tr th:only-of-type {\n",
              "        vertical-align: middle;\n",
              "    }\n",
              "\n",
              "    .dataframe tbody tr th {\n",
              "        vertical-align: top;\n",
              "    }\n",
              "\n",
              "    .dataframe thead th {\n",
              "        text-align: right;\n",
              "    }\n",
              "</style>\n",
              "<table border=\"1\" class=\"dataframe\">\n",
              "  <thead>\n",
              "    <tr style=\"text-align: right;\">\n",
              "      <th></th>\n",
              "      <th>id</th>\n",
              "      <th>loan_amnt</th>\n",
              "      <th>funded_amnt</th>\n",
              "      <th>term</th>\n",
              "      <th>int_rate</th>\n",
              "      <th>installment</th>\n",
              "      <th>emp_title</th>\n",
              "      <th>emp_length</th>\n",
              "      <th>home_ownership</th>\n",
              "      <th>annual_inc</th>\n",
              "      <th>verification_status</th>\n",
              "    </tr>\n",
              "  </thead>\n",
              "  <tbody>\n",
              "    <tr>\n",
              "      <th>14010</th>\n",
              "      <td>1545</td>\n",
              "      <td>110</td>\n",
              "      <td>110</td>\n",
              "      <td>0</td>\n",
              "      <td>17</td>\n",
              "      <td>569</td>\n",
              "      <td>861</td>\n",
              "      <td>1</td>\n",
              "      <td>0</td>\n",
              "      <td>820</td>\n",
              "      <td>2</td>\n",
              "    </tr>\n",
              "    <tr>\n",
              "      <th>14012</th>\n",
              "      <td>1626</td>\n",
              "      <td>846</td>\n",
              "      <td>846</td>\n",
              "      <td>0</td>\n",
              "      <td>10</td>\n",
              "      <td>4212</td>\n",
              "      <td>2177</td>\n",
              "      <td>2</td>\n",
              "      <td>2</td>\n",
              "      <td>1234</td>\n",
              "      <td>2</td>\n",
              "    </tr>\n",
              "    <tr>\n",
              "      <th>14013</th>\n",
              "      <td>1952</td>\n",
              "      <td>916</td>\n",
              "      <td>916</td>\n",
              "      <td>1</td>\n",
              "      <td>20</td>\n",
              "      <td>3946</td>\n",
              "      <td>4461</td>\n",
              "      <td>3</td>\n",
              "      <td>2</td>\n",
              "      <td>1144</td>\n",
              "      <td>1</td>\n",
              "    </tr>\n",
              "    <tr>\n",
              "      <th>14014</th>\n",
              "      <td>1093</td>\n",
              "      <td>147</td>\n",
              "      <td>147</td>\n",
              "      <td>0</td>\n",
              "      <td>13</td>\n",
              "      <td>732</td>\n",
              "      <td>5347</td>\n",
              "      <td>6</td>\n",
              "      <td>2</td>\n",
              "      <td>548</td>\n",
              "      <td>2</td>\n",
              "    </tr>\n",
              "    <tr>\n",
              "      <th>14015</th>\n",
              "      <td>1096</td>\n",
              "      <td>213</td>\n",
              "      <td>213</td>\n",
              "      <td>0</td>\n",
              "      <td>12</td>\n",
              "      <td>1067</td>\n",
              "      <td>4128</td>\n",
              "      <td>7</td>\n",
              "      <td>2</td>\n",
              "      <td>467</td>\n",
              "      <td>1</td>\n",
              "    </tr>\n",
              "  </tbody>\n",
              "</table>\n",
              "</div>"
            ],
            "text/plain": [
              "         id  loan_amnt  ...  annual_inc  verification_status\n",
              "14010  1545        110  ...         820                    2\n",
              "14012  1626        846  ...        1234                    2\n",
              "14013  1952        916  ...        1144                    1\n",
              "14014  1093        147  ...         548                    2\n",
              "14015  1096        213  ...         467                    1\n",
              "\n",
              "[5 rows x 11 columns]"
            ]
          },
          "metadata": {
            "tags": []
          },
          "execution_count": 17
        }
      ]
    },
    {
      "cell_type": "code",
      "metadata": {
        "id": "z8wMUXcZXWDm",
        "colab": {
          "base_uri": "https://localhost:8080/"
        },
        "outputId": "9f728b74-ef4a-47e9-faf6-135714d392a0"
      },
      "source": [
        "y"
      ],
      "execution_count": null,
      "outputs": [
        {
          "output_type": "execute_result",
          "data": {
            "text/plain": [
              "0         Fully Paid\n",
              "1         Fully Paid\n",
              "2         Fully Paid\n",
              "4         Fully Paid\n",
              "5         Fully Paid\n",
              "            ...     \n",
              "14010     Fully Paid\n",
              "14012     Fully Paid\n",
              "14013     Fully Paid\n",
              "14014    Charged Off\n",
              "14015     Fully Paid\n",
              "Name: loan_status, Length: 11665, dtype: object"
            ]
          },
          "metadata": {
            "tags": []
          },
          "execution_count": 18
        }
      ]
    },
    {
      "cell_type": "code",
      "metadata": {
        "id": "Wz__6u52XnmV",
        "colab": {
          "base_uri": "https://localhost:8080/"
        },
        "outputId": "95682e4b-6993-45e5-9879-23b8ff7244cc"
      },
      "source": [
        "y.unique()"
      ],
      "execution_count": null,
      "outputs": [
        {
          "output_type": "execute_result",
          "data": {
            "text/plain": [
              "array(['Fully Paid', 'Charged Off'], dtype=object)"
            ]
          },
          "metadata": {
            "tags": []
          },
          "execution_count": 19
        }
      ]
    },
    {
      "cell_type": "code",
      "metadata": {
        "id": "qkgeR8CkXZ2D",
        "colab": {
          "base_uri": "https://localhost:8080/"
        },
        "outputId": "a138eba9-8dc1-4386-c560-c3279173a97d"
      },
      "source": [
        "y = y.map({'Fully Paid':0,'Charged Off':1})\n",
        "y"
      ],
      "execution_count": null,
      "outputs": [
        {
          "output_type": "execute_result",
          "data": {
            "text/plain": [
              "0        0\n",
              "1        0\n",
              "2        0\n",
              "4        0\n",
              "5        0\n",
              "        ..\n",
              "14010    0\n",
              "14012    0\n",
              "14013    0\n",
              "14014    1\n",
              "14015    0\n",
              "Name: loan_status, Length: 11665, dtype: int64"
            ]
          },
          "metadata": {
            "tags": []
          },
          "execution_count": 20
        }
      ]
    },
    {
      "cell_type": "code",
      "metadata": {
        "id": "_MigFXekePr_",
        "colab": {
          "base_uri": "https://localhost:8080/"
        },
        "outputId": "f58a991f-5464-4ce3-98e7-000f659c78c8"
      },
      "source": [
        "y.unique()"
      ],
      "execution_count": null,
      "outputs": [
        {
          "output_type": "execute_result",
          "data": {
            "text/plain": [
              "array([0, 1])"
            ]
          },
          "metadata": {
            "tags": []
          },
          "execution_count": 21
        }
      ]
    },
    {
      "cell_type": "code",
      "metadata": {
        "id": "h2g_EmGMeyJ7"
      },
      "source": [
        "from sklearn.model_selection import train_test_split\n",
        "X_train, X_test, y_train, y_test = train_test_split(X, y, test_size=0.3)"
      ],
      "execution_count": null,
      "outputs": []
    },
    {
      "cell_type": "code",
      "metadata": {
        "id": "e7x6S9L0fZwz",
        "colab": {
          "base_uri": "https://localhost:8080/"
        },
        "outputId": "2251e4a7-44c0-4694-df33-eb6bfbcbda42"
      },
      "source": [
        "len(X_train)"
      ],
      "execution_count": null,
      "outputs": [
        {
          "output_type": "execute_result",
          "data": {
            "text/plain": [
              "8165"
            ]
          },
          "metadata": {
            "tags": []
          },
          "execution_count": 23
        }
      ]
    },
    {
      "cell_type": "code",
      "metadata": {
        "id": "om-Mp4Y1fc5Z",
        "colab": {
          "base_uri": "https://localhost:8080/"
        },
        "outputId": "1d067c18-9299-4692-f2c1-ea3a5a8e0be9"
      },
      "source": [
        "len(X_test)"
      ],
      "execution_count": null,
      "outputs": [
        {
          "output_type": "execute_result",
          "data": {
            "text/plain": [
              "3500"
            ]
          },
          "metadata": {
            "tags": []
          },
          "execution_count": 24
        }
      ]
    },
    {
      "cell_type": "markdown",
      "metadata": {
        "id": "TMchbmWS_VkA"
      },
      "source": [
        "## Using MinMaxScaler for Scaling the data\n",
        "\n",
        "\n"
      ]
    },
    {
      "cell_type": "code",
      "metadata": {
        "id": "01qlxRNufeSm"
      },
      "source": [
        "from sklearn.preprocessing import MinMaxScaler\n",
        "from sklearn.pipeline import Pipeline\n",
        "from sklearn.model_selection import cross_val_score\n",
        "from sklearn.linear_model import LogisticRegression\n",
        "\n",
        "scaler = MinMaxScaler()\n",
        "model = LogisticRegression(max_iter=10000, class_weight='balanced')\n",
        "\n",
        "pipeline = Pipeline(steps=[('s', scaler), ('m', model)])\n",
        "\n",
        "scores = cross_val_score(pipeline, X_train, y_train)"
      ],
      "execution_count": null,
      "outputs": []
    },
    {
      "cell_type": "code",
      "metadata": {
        "id": "qzsLSH8prr5C",
        "colab": {
          "base_uri": "https://localhost:8080/"
        },
        "outputId": "5d6f5e6e-4974-47ee-95a0-58c59c48e3e4"
      },
      "source": [
        "from numpy import mean\n",
        "from numpy import std\n",
        "print('Accuracy: %.3f (%.3f)' % (mean(scores), std(scores)))"
      ],
      "execution_count": null,
      "outputs": [
        {
          "output_type": "stream",
          "text": [
            "Accuracy: 0.693 (0.007)\n"
          ],
          "name": "stdout"
        }
      ]
    },
    {
      "cell_type": "markdown",
      "metadata": {
        "id": "4V3oTXwpAS0H"
      },
      "source": [
        "We got an accuracy of 70% which is good accuracy using MinMaxScaler with logisticregression"
      ]
    },
    {
      "cell_type": "markdown",
      "metadata": {
        "id": "rNAxi3WJ_nO5"
      },
      "source": [
        "## Also used StandardScaler for better understanding between MinMaxScaler and StandardScaler.\n",
        "\n"
      ]
    },
    {
      "cell_type": "code",
      "metadata": {
        "id": "OgQn7LQbrruV",
        "colab": {
          "base_uri": "https://localhost:8080/"
        },
        "outputId": "6b190198-d343-4d01-bcab-daefcc4d5442"
      },
      "source": [
        "from sklearn.preprocessing import StandardScaler\n",
        "standard_scaler = StandardScaler()\n",
        "\n",
        "model = LogisticRegression(max_iter=10000, class_weight='balanced')\n",
        "\n",
        "pipeline = Pipeline(steps=[('s', standard_scaler), ('m', model)])\n",
        "\n",
        "scores = cross_val_score(pipeline, X_train, y_train)\n",
        "\n",
        "print('Accuracy: %.3f (%.3f)' % (mean(scores), std(scores)))"
      ],
      "execution_count": null,
      "outputs": [
        {
          "output_type": "stream",
          "text": [
            "Accuracy: 0.693 (0.008)\n"
          ],
          "name": "stdout"
        }
      ]
    },
    {
      "cell_type": "markdown",
      "metadata": {
        "id": "ZZlr5m85Aafi"
      },
      "source": [
        "Here, also we got 70% accuracy similar to MinMaxScaler sometimes we can expect little high accuracy with StandardScaler"
      ]
    },
    {
      "cell_type": "markdown",
      "metadata": {
        "id": "pHX8IcJnBI9M"
      },
      "source": [
        "# So, here we will be using MinMaxScaler for our model to scale the data."
      ]
    },
    {
      "cell_type": "code",
      "metadata": {
        "id": "WtRTqrzNvOJ9"
      },
      "source": [
        "from sklearn.preprocessing import MinMaxScaler\n",
        "min_max_scaler = MinMaxScaler()\n",
        "\n",
        "X_train_scaler = min_max_scaler.fit_transform(X_train)\n",
        "X_test_scaler = min_max_scaler.transform(X_test)"
      ],
      "execution_count": null,
      "outputs": []
    },
    {
      "cell_type": "code",
      "metadata": {
        "id": "84OXaGKgh_U0",
        "colab": {
          "base_uri": "https://localhost:8080/",
          "height": 316
        },
        "outputId": "c61afc45-77ce-484b-fa92-aa6a12082ed6"
      },
      "source": [
        "from sklearn.metrics import classification_report, confusion_matrix, accuracy_score\n",
        "\n",
        "logistic_model = LogisticRegression(max_iter=10000, class_weight='balanced')\n",
        "logistic_model.fit(X_train_scaler, y_train)\n",
        "\n",
        "y_pred = logistic_model.predict(X_test_scaler)\n",
        "\n",
        "cm = confusion_matrix(y_test,y_pred)\n",
        "print(cm)\n",
        "sns.heatmap(cm,annot=True,fmt='d')"
      ],
      "execution_count": null,
      "outputs": [
        {
          "output_type": "stream",
          "text": [
            "[[2040  778]\n",
            " [ 248  434]]\n"
          ],
          "name": "stdout"
        },
        {
          "output_type": "execute_result",
          "data": {
            "text/plain": [
              "<matplotlib.axes._subplots.AxesSubplot at 0x7fbad2bbc3d0>"
            ]
          },
          "metadata": {
            "tags": []
          },
          "execution_count": 37
        },
        {
          "output_type": "display_data",
          "data": {
            "image/png": "[encoded data removed]",
            "text/plain": [
              "<Figure size 432x288 with 2 Axes>"
            ]
          },
          "metadata": {
            "tags": [],
            "needs_background": "light"
          }
        }
      ]
    },
    {
      "cell_type": "code",
      "metadata": {
        "id": "3ik1LVj1vEH7",
        "colab": {
          "base_uri": "https://localhost:8080/"
        },
        "outputId": "150ef572-e8b1-44a3-901b-d3ea6287233a"
      },
      "source": [
        "# on testing set\n",
        "logistic_model.score(X_test_scaler, y_test)"
      ],
      "execution_count": null,
      "outputs": [
        {
          "output_type": "execute_result",
          "data": {
            "text/plain": [
              "0.7068571428571429"
            ]
          },
          "metadata": {
            "tags": []
          },
          "execution_count": 38
        }
      ]
    },
    {
      "cell_type": "code",
      "metadata": {
        "id": "QktJexAaDC_C",
        "colab": {
          "base_uri": "https://localhost:8080/"
        },
        "outputId": "2be6d932-fe6d-4b83-9532-4a5d63dd0e50"
      },
      "source": [
        "# on training set\n",
        "logistic_model.score(X_train_scaler, y_train)"
      ],
      "execution_count": null,
      "outputs": [
        {
          "output_type": "execute_result",
          "data": {
            "text/plain": [
              "0.6933251684017147"
            ]
          },
          "metadata": {
            "tags": []
          },
          "execution_count": 39
        }
      ]
    },
    {
      "cell_type": "code",
      "metadata": {
        "id": "IPA1DG3excJN",
        "colab": {
          "base_uri": "https://localhost:8080/"
        },
        "outputId": "87bb8b48-6c06-4cdc-c934-3f4a640abf8f"
      },
      "source": [
        "print(classification_report(y_test, y_pred))"
      ],
      "execution_count": null,
      "outputs": [
        {
          "output_type": "stream",
          "text": [
            "              precision    recall  f1-score   support\n",
            "\n",
            "           0       0.89      0.72      0.80      2818\n",
            "           1       0.36      0.64      0.46       682\n",
            "\n",
            "    accuracy                           0.71      3500\n",
            "   macro avg       0.62      0.68      0.63      3500\n",
            "weighted avg       0.79      0.71      0.73      3500\n",
            "\n"
          ],
          "name": "stdout"
        }
      ]
    },
    {
      "cell_type": "code",
      "metadata": {
        "id": "A3AlRU4vNz1M"
      },
      "source": [
        "import pickle\n",
        "pickle_out = open('logistic_model.pkl', 'wb')\n",
        "pickle.dump(logistic_model, pickle_out)\n",
        "pickle_out.close()"
      ],
      "execution_count": null,
      "outputs": []
    },
    {
      "cell_type": "code",
      "metadata": {
        "id": "Zw1HCkaAxcAR"
      },
      "source": [
        ""
      ],
      "execution_count": null,
      "outputs": []
    },
    {
      "cell_type": "markdown",
      "metadata": {
        "id": "xAMf8JESuWGE"
      },
      "source": [
        "## Using Random Forest classifier"
      ]
    },
    {
      "cell_type": "code",
      "metadata": {
        "id": "GPM6vhtfjctM"
      },
      "source": [
        "from sklearn.ensemble import RandomForestClassifier\n",
        "rfc = RandomForestClassifier(n_estimators=100)"
      ],
      "execution_count": null,
      "outputs": []
    },
    {
      "cell_type": "code",
      "metadata": {
        "id": "eHAh16yJtnM8",
        "colab": {
          "base_uri": "https://localhost:8080/"
        },
        "outputId": "784e95d7-843e-498c-d54e-2056fe0860c0"
      },
      "source": [
        "rfc.fit(X_train_scaler, y_train)"
      ],
      "execution_count": null,
      "outputs": [
        {
          "output_type": "execute_result",
          "data": {
            "text/plain": [
              "RandomForestClassifier(bootstrap=True, ccp_alpha=0.0, class_weight=None,\n",
              "                       criterion='gini', max_depth=None, max_features='auto',\n",
              "                       max_leaf_nodes=None, max_samples=None,\n",
              "                       min_impurity_decrease=0.0, min_impurity_split=None,\n",
              "                       min_samples_leaf=1, min_samples_split=2,\n",
              "                       min_weight_fraction_leaf=0.0, n_estimators=100,\n",
              "                       n_jobs=None, oob_score=False, random_state=None,\n",
              "                       verbose=0, warm_start=False)"
            ]
          },
          "metadata": {
            "tags": []
          },
          "execution_count": 42
        }
      ]
    },
    {
      "cell_type": "code",
      "metadata": {
        "id": "rWj2z0A9ttGm",
        "colab": {
          "base_uri": "https://localhost:8080/"
        },
        "outputId": "e2c163d4-35da-4fef-b45e-ebc07b536e74"
      },
      "source": [
        "rfc.score(X_test_scaler, y_test)"
      ],
      "execution_count": null,
      "outputs": [
        {
          "output_type": "execute_result",
          "data": {
            "text/plain": [
              "0.7985714285714286"
            ]
          },
          "metadata": {
            "tags": []
          },
          "execution_count": 43
        }
      ]
    },
    {
      "cell_type": "code",
      "metadata": {
        "id": "jf8WV7Z3C8R2",
        "colab": {
          "base_uri": "https://localhost:8080/"
        },
        "outputId": "3db3959b-1cdf-48c7-f736-b83cf6d3d31a"
      },
      "source": [
        "rfc.score(X_train_scaler, y_train)"
      ],
      "execution_count": null,
      "outputs": [
        {
          "output_type": "execute_result",
          "data": {
            "text/plain": [
              "1.0"
            ]
          },
          "metadata": {
            "tags": []
          },
          "execution_count": 44
        }
      ]
    },
    {
      "cell_type": "code",
      "metadata": {
        "id": "vGOPAFg-tyhW",
        "colab": {
          "base_uri": "https://localhost:8080/",
          "height": 316
        },
        "outputId": "dd97a688-b6af-4609-c0b7-5928c93e17f0"
      },
      "source": [
        "y_pre = rfc.predict(X_test_scaler)\n",
        "cm = confusion_matrix(y_test, y_pre)\n",
        "\n",
        "print(cm)\n",
        "\n",
        "sns.heatmap(cm,annot=True,fmt='d')"
      ],
      "execution_count": null,
      "outputs": [
        {
          "output_type": "stream",
          "text": [
            "[[2726   92]\n",
            " [ 613   69]]\n"
          ],
          "name": "stdout"
        },
        {
          "output_type": "execute_result",
          "data": {
            "text/plain": [
              "<matplotlib.axes._subplots.AxesSubplot at 0x7fbad2afe450>"
            ]
          },
          "metadata": {
            "tags": []
          },
          "execution_count": 45
        },
        {
          "output_type": "display_data",
          "data": {
            "image/png": "[encoded data removed]",
            "text/plain": [
              "<Figure size 432x288 with 2 Axes>"
            ]
          },
          "metadata": {
            "tags": [],
            "needs_background": "light"
          }
        }
      ]
    },
    {
      "cell_type": "code",
      "metadata": {
        "id": "x6BYz3uFuAEu",
        "colab": {
          "base_uri": "https://localhost:8080/"
        },
        "outputId": "851b7011-97d4-4743-f769-b8c95914fd23"
      },
      "source": [
        "print(classification_report(y_test, y_pre))"
      ],
      "execution_count": null,
      "outputs": [
        {
          "output_type": "stream",
          "text": [
            "              precision    recall  f1-score   support\n",
            "\n",
            "           0       0.82      0.97      0.89      2818\n",
            "           1       0.43      0.10      0.16       682\n",
            "\n",
            "    accuracy                           0.80      3500\n",
            "   macro avg       0.62      0.53      0.52      3500\n",
            "weighted avg       0.74      0.80      0.74      3500\n",
            "\n"
          ],
          "name": "stdout"
        }
      ]
    },
    {
      "cell_type": "code",
      "metadata": {
        "id": "di8ARwFCxgCb"
      },
      "source": [
        "import pickle\n",
        "pickle_out = open('rfc.pkl', 'wb')\n",
        "pickle.dump(rfc, pickle_out)\n",
        "pickle_out.close()"
      ],
      "execution_count": null,
      "outputs": []
    },
    {
      "cell_type": "code",
      "metadata": {
        "id": "gn2Iq4bpxf5C"
      },
      "source": [
        ""
      ],
      "execution_count": null,
      "outputs": []
    },
    {
      "cell_type": "markdown",
      "metadata": {
        "id": "s8K8dd4pwK6q"
      },
      "source": [
        "## Using Decision Tree"
      ]
    },
    {
      "cell_type": "code",
      "metadata": {
        "id": "6cRLeU-zuEsO"
      },
      "source": [
        "from sklearn.tree import DecisionTreeClassifier\n",
        "tree = DecisionTreeClassifier()"
      ],
      "execution_count": null,
      "outputs": []
    },
    {
      "cell_type": "code",
      "metadata": {
        "id": "6tvV2KaZwT9t",
        "colab": {
          "base_uri": "https://localhost:8080/"
        },
        "outputId": "3db517ef-f512-4c0f-ead7-f4041477c65e"
      },
      "source": [
        "tree.fit(X_train_scaler, y_train)"
      ],
      "execution_count": null,
      "outputs": [
        {
          "output_type": "execute_result",
          "data": {
            "text/plain": [
              "DecisionTreeClassifier(ccp_alpha=0.0, class_weight=None, criterion='gini',\n",
              "                       max_depth=None, max_features=None, max_leaf_nodes=None,\n",
              "                       min_impurity_decrease=0.0, min_impurity_split=None,\n",
              "                       min_samples_leaf=1, min_samples_split=2,\n",
              "                       min_weight_fraction_leaf=0.0, presort='deprecated',\n",
              "                       random_state=None, splitter='best')"
            ]
          },
          "metadata": {
            "tags": []
          },
          "execution_count": 49
        }
      ]
    },
    {
      "cell_type": "code",
      "metadata": {
        "id": "eAu10Zx3wdGq",
        "colab": {
          "base_uri": "https://localhost:8080/"
        },
        "outputId": "88be54ab-4428-4889-8298-6c9d22733bbf"
      },
      "source": [
        "# on testing set\n",
        "tree.score(X_test_scaler,y_test)"
      ],
      "execution_count": null,
      "outputs": [
        {
          "output_type": "execute_result",
          "data": {
            "text/plain": [
              "0.7102857142857143"
            ]
          },
          "metadata": {
            "tags": []
          },
          "execution_count": 50
        }
      ]
    },
    {
      "cell_type": "code",
      "metadata": {
        "id": "XD4zX8yPDykz",
        "colab": {
          "base_uri": "https://localhost:8080/"
        },
        "outputId": "009d5e11-6cd8-46c1-9c89-85f81311139b"
      },
      "source": [
        "# on training set\n",
        "tree.score(X_train_scaler, y_train)"
      ],
      "execution_count": null,
      "outputs": [
        {
          "output_type": "execute_result",
          "data": {
            "text/plain": [
              "1.0"
            ]
          },
          "metadata": {
            "tags": []
          },
          "execution_count": 51
        }
      ]
    },
    {
      "cell_type": "code",
      "metadata": {
        "id": "C_LyFM21wg4Q",
        "colab": {
          "base_uri": "https://localhost:8080/",
          "height": 282
        },
        "outputId": "039921f4-83ca-4c2e-aef5-b2a046511f5d"
      },
      "source": [
        "y_predicted = tree.predict(X_test_scaler)\n",
        "cm = confusion_matrix(y_test, y_predicted)\n",
        "\n",
        "sns.heatmap(cm,annot=True, fmt='d')"
      ],
      "execution_count": null,
      "outputs": [
        {
          "output_type": "execute_result",
          "data": {
            "text/plain": [
              "<matplotlib.axes._subplots.AxesSubplot at 0x7fbad0da5c10>"
            ]
          },
          "metadata": {
            "tags": []
          },
          "execution_count": 52
        },
        {
          "output_type": "display_data",
          "data": {
            "image/png": "[encoded data removed]",
            "text/plain": [
              "<Figure size 432x288 with 2 Axes>"
            ]
          },
          "metadata": {
            "tags": [],
            "needs_background": "light"
          }
        }
      ]
    },
    {
      "cell_type": "code",
      "metadata": {
        "id": "A_Jd9WsGw-CT",
        "colab": {
          "base_uri": "https://localhost:8080/"
        },
        "outputId": "7bba913b-7ad8-451d-b2bd-f7e5cb01ac57"
      },
      "source": [
        "print(classification_report(y_test,y_predicted))"
      ],
      "execution_count": null,
      "outputs": [
        {
          "output_type": "stream",
          "text": [
            "              precision    recall  f1-score   support\n",
            "\n",
            "           0       0.83      0.81      0.82      2818\n",
            "           1       0.27      0.29      0.28       682\n",
            "\n",
            "    accuracy                           0.71      3500\n",
            "   macro avg       0.55      0.55      0.55      3500\n",
            "weighted avg       0.72      0.71      0.71      3500\n",
            "\n"
          ],
          "name": "stdout"
        }
      ]
    },
    {
      "cell_type": "code",
      "metadata": {
        "id": "14q1EVVjPklh"
      },
      "source": [
        "import pickle\n",
        "pickle_out = open('tree.pkl', 'wb')\n",
        "pickle.dump(tree, pickle_out)\n",
        "pickle_out.close()"
      ],
      "execution_count": null,
      "outputs": []
    },
    {
      "cell_type": "code",
      "metadata": {
        "id": "NO4r5c9ADxXS",
        "colab": {
          "base_uri": "https://localhost:8080/"
        },
        "outputId": "e38721b4-ce8b-4db8-c6d8-238c10dc7016"
      },
      "source": [
        "X_train_scaler.shape"
      ],
      "execution_count": null,
      "outputs": [
        {
          "output_type": "execute_result",
          "data": {
            "text/plain": [
              "(8165, 11)"
            ]
          },
          "metadata": {
            "tags": []
          },
          "execution_count": 55
        }
      ]
    },
    {
      "cell_type": "markdown",
      "metadata": {
        "id": "lKAnbVRpxTb0"
      },
      "source": [
        "Using Neural networks"
      ]
    },
    {
      "cell_type": "code",
      "metadata": {
        "id": "1uuzsNrJxDjj",
        "colab": {
          "base_uri": "https://localhost:8080/"
        },
        "outputId": "4fd2d0b9-2010-4fee-9636-7212f2ee5152"
      },
      "source": [
        "import tensorflow as tf\n",
        "from tensorflow import keras\n",
        "\n",
        "model = keras.Sequential([\n",
        "                          keras.layers.Dense(89, input_shape=(11,),activation='relu'),\n",
        "                          keras.layers.Dropout(0.2),\n",
        "                          keras.layers.Dense(89,activation='relu'),\n",
        "                          keras.layers.Dropout(0.2),\n",
        "                          keras.layers.Dense(45, activation='relu'),\n",
        "                          keras.layers.Dropout(0.2),\n",
        "                          keras.layers.Dense(20, activation='relu'),\n",
        "                          keras.layers.Dense(1, activation='sigmoid')\n",
        "])\n",
        "\n",
        "model.compile(loss='binary_crossentropy',optimizer='adam',metrics=['accuracy'])\n",
        "\n",
        "model.summary()"
      ],
      "execution_count": null,
      "outputs": [
        {
          "output_type": "stream",
          "text": [
            "Model: \"sequential\"\n",
            "_________________________________________________________________\n",
            "Layer (type)                 Output Shape              Param #   \n",
            "=================================================================\n",
            "dense (Dense)                (None, 89)                1068      \n",
            "_________________________________________________________________\n",
            "dropout (Dropout)            (None, 89)                0         \n",
            "_________________________________________________________________\n",
            "dense_1 (Dense)              (None, 89)                8010      \n",
            "_________________________________________________________________\n",
            "dropout_1 (Dropout)          (None, 89)                0         \n",
            "_________________________________________________________________\n",
            "dense_2 (Dense)              (None, 45)                4050      \n",
            "_________________________________________________________________\n",
            "dropout_2 (Dropout)          (None, 45)                0         \n",
            "_________________________________________________________________\n",
            "dense_3 (Dense)              (None, 20)                920       \n",
            "_________________________________________________________________\n",
            "dense_4 (Dense)              (None, 1)                 21        \n",
            "=================================================================\n",
            "Total params: 14,069\n",
            "Trainable params: 14,069\n",
            "Non-trainable params: 0\n",
            "_________________________________________________________________\n"
          ],
          "name": "stdout"
        }
      ]
    },
    {
      "cell_type": "code",
      "metadata": {
        "id": "1Ci-5Gcrycy-",
        "colab": {
          "base_uri": "https://localhost:8080/"
        },
        "outputId": "50a47931-6d9f-4df0-9135-ba3e9c82eb9e"
      },
      "source": [
        "history = model.fit(X_train_scaler, y_train, epochs=100, verbose=1)"
      ],
      "execution_count": null,
      "outputs": [
        {
          "output_type": "stream",
          "text": [
            "Epoch 1/100\n",
            "256/256 [==============================] - 4s 3ms/step - loss: 0.4785 - accuracy: 0.8088\n",
            "Epoch 2/100\n",
            "256/256 [==============================] - 1s 3ms/step - loss: 0.4519 - accuracy: 0.8098\n",
            "Epoch 3/100\n",
            "256/256 [==============================] - 1s 3ms/step - loss: 0.4464 - accuracy: 0.8104\n",
            "Epoch 4/100\n",
            "256/256 [==============================] - 1s 3ms/step - loss: 0.4440 - accuracy: 0.8100\n",
            "Epoch 5/100\n",
            "256/256 [==============================] - 1s 3ms/step - loss: 0.4445 - accuracy: 0.8098\n",
            "Epoch 6/100\n",
            "256/256 [==============================] - 1s 3ms/step - loss: 0.4404 - accuracy: 0.8116\n",
            "Epoch 7/100\n",
            "256/256 [==============================] - 1s 3ms/step - loss: 0.4404 - accuracy: 0.8152\n",
            "Epoch 8/100\n",
            "256/256 [==============================] - 1s 3ms/step - loss: 0.4385 - accuracy: 0.8107\n",
            "Epoch 9/100\n",
            "256/256 [==============================] - 1s 3ms/step - loss: 0.4384 - accuracy: 0.8107\n",
            "Epoch 10/100\n",
            "256/256 [==============================] - 1s 3ms/step - loss: 0.4395 - accuracy: 0.8114\n",
            "Epoch 11/100\n",
            "256/256 [==============================] - 1s 3ms/step - loss: 0.4379 - accuracy: 0.8133\n",
            "Epoch 12/100\n",
            "256/256 [==============================] - 1s 3ms/step - loss: 0.4371 - accuracy: 0.8135\n",
            "Epoch 13/100\n",
            "256/256 [==============================] - 1s 3ms/step - loss: 0.4376 - accuracy: 0.8143\n",
            "Epoch 14/100\n",
            "256/256 [==============================] - 1s 3ms/step - loss: 0.4359 - accuracy: 0.8124\n",
            "Epoch 15/100\n",
            "256/256 [==============================] - 1s 3ms/step - loss: 0.4348 - accuracy: 0.8105\n",
            "Epoch 16/100\n",
            "256/256 [==============================] - 1s 3ms/step - loss: 0.4356 - accuracy: 0.8138\n",
            "Epoch 17/100\n",
            "256/256 [==============================] - 1s 3ms/step - loss: 0.4347 - accuracy: 0.8126\n",
            "Epoch 18/100\n",
            "256/256 [==============================] - 1s 3ms/step - loss: 0.4336 - accuracy: 0.8143\n",
            "Epoch 19/100\n",
            "256/256 [==============================] - 1s 2ms/step - loss: 0.4340 - accuracy: 0.8129\n",
            "Epoch 20/100\n",
            "256/256 [==============================] - 1s 3ms/step - loss: 0.4349 - accuracy: 0.8138\n",
            "Epoch 21/100\n",
            "256/256 [==============================] - 1s 3ms/step - loss: 0.4320 - accuracy: 0.8156\n",
            "Epoch 22/100\n",
            "256/256 [==============================] - 1s 3ms/step - loss: 0.4316 - accuracy: 0.8122\n",
            "Epoch 23/100\n",
            "256/256 [==============================] - 1s 2ms/step - loss: 0.4330 - accuracy: 0.8109\n",
            "Epoch 24/100\n",
            "256/256 [==============================] - 1s 2ms/step - loss: 0.4308 - accuracy: 0.8162\n",
            "Epoch 25/100\n",
            "256/256 [==============================] - 1s 3ms/step - loss: 0.4303 - accuracy: 0.8171\n",
            "Epoch 26/100\n",
            "256/256 [==============================] - 1s 3ms/step - loss: 0.4281 - accuracy: 0.8165\n",
            "Epoch 27/100\n",
            "256/256 [==============================] - 1s 2ms/step - loss: 0.4302 - accuracy: 0.8156\n",
            "Epoch 28/100\n",
            "256/256 [==============================] - 1s 3ms/step - loss: 0.4290 - accuracy: 0.8140\n",
            "Epoch 29/100\n",
            "256/256 [==============================] - 1s 3ms/step - loss: 0.4284 - accuracy: 0.8154\n",
            "Epoch 30/100\n",
            "256/256 [==============================] - 1s 3ms/step - loss: 0.4286 - accuracy: 0.8129\n",
            "Epoch 31/100\n",
            "256/256 [==============================] - 1s 3ms/step - loss: 0.4275 - accuracy: 0.8158\n",
            "Epoch 32/100\n",
            "256/256 [==============================] - 1s 3ms/step - loss: 0.4297 - accuracy: 0.8153\n",
            "Epoch 33/100\n",
            "256/256 [==============================] - 1s 3ms/step - loss: 0.4295 - accuracy: 0.8154\n",
            "Epoch 34/100\n",
            "256/256 [==============================] - 1s 3ms/step - loss: 0.4266 - accuracy: 0.8156\n",
            "Epoch 35/100\n",
            "256/256 [==============================] - 1s 3ms/step - loss: 0.4271 - accuracy: 0.8181\n",
            "Epoch 36/100\n",
            "256/256 [==============================] - 1s 3ms/step - loss: 0.4273 - accuracy: 0.8158\n",
            "Epoch 37/100\n",
            "256/256 [==============================] - 1s 3ms/step - loss: 0.4249 - accuracy: 0.8147\n",
            "Epoch 38/100\n",
            "256/256 [==============================] - 1s 3ms/step - loss: 0.4256 - accuracy: 0.8194\n",
            "Epoch 39/100\n",
            "256/256 [==============================] - 1s 2ms/step - loss: 0.4247 - accuracy: 0.8153\n",
            "Epoch 40/100\n",
            "256/256 [==============================] - 1s 3ms/step - loss: 0.4224 - accuracy: 0.8185\n",
            "Epoch 41/100\n",
            "256/256 [==============================] - 1s 3ms/step - loss: 0.4218 - accuracy: 0.8185\n",
            "Epoch 42/100\n",
            "256/256 [==============================] - 1s 3ms/step - loss: 0.4239 - accuracy: 0.8153\n",
            "Epoch 43/100\n",
            "256/256 [==============================] - 1s 2ms/step - loss: 0.4224 - accuracy: 0.8201\n",
            "Epoch 44/100\n",
            "256/256 [==============================] - 1s 3ms/step - loss: 0.4207 - accuracy: 0.8181\n",
            "Epoch 45/100\n",
            "256/256 [==============================] - 1s 3ms/step - loss: 0.4232 - accuracy: 0.8190\n",
            "Epoch 46/100\n",
            "256/256 [==============================] - 1s 3ms/step - loss: 0.4219 - accuracy: 0.8169\n",
            "Epoch 47/100\n",
            "256/256 [==============================] - 1s 2ms/step - loss: 0.4218 - accuracy: 0.8176\n",
            "Epoch 48/100\n",
            "256/256 [==============================] - 1s 3ms/step - loss: 0.4239 - accuracy: 0.8153\n",
            "Epoch 49/100\n",
            "256/256 [==============================] - 1s 3ms/step - loss: 0.4208 - accuracy: 0.8186\n",
            "Epoch 50/100\n",
            "256/256 [==============================] - 1s 2ms/step - loss: 0.4203 - accuracy: 0.8195\n",
            "Epoch 51/100\n",
            "256/256 [==============================] - 1s 3ms/step - loss: 0.4201 - accuracy: 0.8163\n",
            "Epoch 52/100\n",
            "256/256 [==============================] - 1s 3ms/step - loss: 0.4191 - accuracy: 0.8187\n",
            "Epoch 53/100\n",
            "256/256 [==============================] - 1s 3ms/step - loss: 0.4223 - accuracy: 0.8125\n",
            "Epoch 54/100\n",
            "256/256 [==============================] - 1s 3ms/step - loss: 0.4179 - accuracy: 0.8205\n",
            "Epoch 55/100\n",
            "256/256 [==============================] - 1s 3ms/step - loss: 0.4183 - accuracy: 0.8173\n",
            "Epoch 56/100\n",
            "256/256 [==============================] - 1s 3ms/step - loss: 0.4198 - accuracy: 0.8194\n",
            "Epoch 57/100\n",
            "256/256 [==============================] - 1s 3ms/step - loss: 0.4156 - accuracy: 0.8168\n",
            "Epoch 58/100\n",
            "256/256 [==============================] - 1s 3ms/step - loss: 0.4160 - accuracy: 0.8184\n",
            "Epoch 59/100\n",
            "256/256 [==============================] - 1s 3ms/step - loss: 0.4171 - accuracy: 0.8191\n",
            "Epoch 60/100\n",
            "256/256 [==============================] - 1s 3ms/step - loss: 0.4153 - accuracy: 0.8194\n",
            "Epoch 61/100\n",
            "256/256 [==============================] - 1s 3ms/step - loss: 0.4160 - accuracy: 0.8171\n",
            "Epoch 62/100\n",
            "256/256 [==============================] - 1s 3ms/step - loss: 0.4141 - accuracy: 0.8197\n",
            "Epoch 63/100\n",
            "256/256 [==============================] - 1s 2ms/step - loss: 0.4165 - accuracy: 0.8163\n",
            "Epoch 64/100\n",
            "256/256 [==============================] - 1s 3ms/step - loss: 0.4151 - accuracy: 0.8168\n",
            "Epoch 65/100\n",
            "256/256 [==============================] - 1s 3ms/step - loss: 0.4141 - accuracy: 0.8184\n",
            "Epoch 66/100\n",
            "256/256 [==============================] - 1s 3ms/step - loss: 0.4139 - accuracy: 0.8168\n",
            "Epoch 67/100\n",
            "256/256 [==============================] - 1s 2ms/step - loss: 0.4156 - accuracy: 0.8214\n",
            "Epoch 68/100\n",
            "256/256 [==============================] - 1s 3ms/step - loss: 0.4124 - accuracy: 0.8200\n",
            "Epoch 69/100\n",
            "256/256 [==============================] - 1s 3ms/step - loss: 0.4136 - accuracy: 0.8190\n",
            "Epoch 70/100\n",
            "256/256 [==============================] - 1s 2ms/step - loss: 0.4115 - accuracy: 0.8203\n",
            "Epoch 71/100\n",
            "256/256 [==============================] - 1s 2ms/step - loss: 0.4122 - accuracy: 0.8175\n",
            "Epoch 72/100\n",
            "256/256 [==============================] - 1s 3ms/step - loss: 0.4142 - accuracy: 0.8200\n",
            "Epoch 73/100\n",
            "256/256 [==============================] - 1s 2ms/step - loss: 0.4108 - accuracy: 0.8223\n",
            "Epoch 74/100\n",
            "256/256 [==============================] - 1s 3ms/step - loss: 0.4103 - accuracy: 0.8169\n",
            "Epoch 75/100\n",
            "256/256 [==============================] - 1s 2ms/step - loss: 0.4087 - accuracy: 0.8216\n",
            "Epoch 76/100\n",
            "256/256 [==============================] - 1s 3ms/step - loss: 0.4082 - accuracy: 0.8202\n",
            "Epoch 77/100\n",
            "256/256 [==============================] - 1s 3ms/step - loss: 0.4099 - accuracy: 0.8203\n",
            "Epoch 78/100\n",
            "256/256 [==============================] - 1s 3ms/step - loss: 0.4057 - accuracy: 0.8192\n",
            "Epoch 79/100\n",
            "256/256 [==============================] - 1s 3ms/step - loss: 0.4101 - accuracy: 0.8194\n",
            "Epoch 80/100\n",
            "256/256 [==============================] - 1s 3ms/step - loss: 0.4045 - accuracy: 0.8224\n",
            "Epoch 81/100\n",
            "256/256 [==============================] - 1s 3ms/step - loss: 0.4085 - accuracy: 0.8223\n",
            "Epoch 82/100\n",
            "256/256 [==============================] - 1s 3ms/step - loss: 0.4073 - accuracy: 0.8176\n",
            "Epoch 83/100\n",
            "256/256 [==============================] - 1s 3ms/step - loss: 0.4073 - accuracy: 0.8184\n",
            "Epoch 84/100\n",
            "256/256 [==============================] - 1s 3ms/step - loss: 0.4032 - accuracy: 0.8220\n",
            "Epoch 85/100\n",
            "256/256 [==============================] - 1s 3ms/step - loss: 0.4091 - accuracy: 0.8167\n",
            "Epoch 86/100\n",
            "256/256 [==============================] - 1s 3ms/step - loss: 0.4057 - accuracy: 0.8201\n",
            "Epoch 87/100\n",
            "256/256 [==============================] - 1s 3ms/step - loss: 0.4061 - accuracy: 0.8214\n",
            "Epoch 88/100\n",
            "256/256 [==============================] - 1s 3ms/step - loss: 0.4030 - accuracy: 0.8233\n",
            "Epoch 89/100\n",
            "256/256 [==============================] - 1s 3ms/step - loss: 0.4040 - accuracy: 0.8185\n",
            "Epoch 90/100\n",
            "256/256 [==============================] - 1s 3ms/step - loss: 0.4052 - accuracy: 0.8231\n",
            "Epoch 91/100\n",
            "256/256 [==============================] - 1s 3ms/step - loss: 0.4046 - accuracy: 0.8196\n",
            "Epoch 92/100\n",
            "256/256 [==============================] - 1s 3ms/step - loss: 0.3998 - accuracy: 0.8208\n",
            "Epoch 93/100\n",
            "256/256 [==============================] - 1s 3ms/step - loss: 0.4075 - accuracy: 0.8201\n",
            "Epoch 94/100\n",
            "256/256 [==============================] - 1s 3ms/step - loss: 0.4055 - accuracy: 0.8218\n",
            "Epoch 95/100\n",
            "256/256 [==============================] - 1s 3ms/step - loss: 0.4002 - accuracy: 0.8176\n",
            "Epoch 96/100\n",
            "256/256 [==============================] - 1s 3ms/step - loss: 0.4014 - accuracy: 0.8205\n",
            "Epoch 97/100\n",
            "256/256 [==============================] - 1s 3ms/step - loss: 0.4006 - accuracy: 0.8227\n",
            "Epoch 98/100\n",
            "256/256 [==============================] - 1s 3ms/step - loss: 0.3998 - accuracy: 0.8238\n",
            "Epoch 99/100\n",
            "256/256 [==============================] - 1s 3ms/step - loss: 0.4008 - accuracy: 0.8219\n",
            "Epoch 100/100\n",
            "256/256 [==============================] - 1s 3ms/step - loss: 0.4038 - accuracy: 0.8195\n"
          ],
          "name": "stdout"
        }
      ]
    },
    {
      "cell_type": "code",
      "metadata": {
        "id": "Mj8ODovr0QKS",
        "colab": {
          "base_uri": "https://localhost:8080/"
        },
        "outputId": "8b86bb61-a054-429f-9fc7-b127f2db5adf"
      },
      "source": [
        "model.evaluate(X_test_scaler, y_test)"
      ],
      "execution_count": null,
      "outputs": [
        {
          "output_type": "stream",
          "text": [
            "110/110 [==============================] - 0s 2ms/step - loss: 0.4820 - accuracy: 0.8023\n"
          ],
          "name": "stdout"
        },
        {
          "output_type": "execute_result",
          "data": {
            "text/plain": [
              "[0.48195308446884155, 0.8022857308387756]"
            ]
          },
          "metadata": {
            "tags": []
          },
          "execution_count": 58
        }
      ]
    },
    {
      "cell_type": "code",
      "metadata": {
        "id": "BFkBXjrk254Q",
        "colab": {
          "base_uri": "https://localhost:8080/",
          "height": 281
        },
        "outputId": "5b3b9cdf-95e2-4047-e0ea-1cd20b31212a"
      },
      "source": [
        "acc = history.history['accuracy']\n",
        "loss = history.history['loss']\n",
        "\n",
        "epochs = range(len(acc))\n",
        "plt.plot(epochs, acc, label='training accuracy')\n",
        "plt.plot(epochs, loss, label='training loss')\n",
        "plt.title('Training accuracy and training loss')\n",
        "plt.legend()\n",
        "plt.show()"
      ],
      "execution_count": null,
      "outputs": [
        {
          "output_type": "display_data",
          "data": {
            "image/png": "[encoded data removed]",
            "text/plain": [
              "<Figure size 432x288 with 1 Axes>"
            ]
          },
          "metadata": {
            "tags": [],
            "needs_background": "light"
          }
        }
      ]
    },
    {
      "cell_type": "code",
      "metadata": {
        "id": "pGotmyvsfn7g"
      },
      "source": [
        "model.save('my_model.h5')"
      ],
      "execution_count": null,
      "outputs": []
    },
    {
      "cell_type": "code",
      "metadata": {
        "colab": {
          "base_uri": "https://localhost:8080/"
        },
        "id": "01rAR5VyQw3D",
        "outputId": "5814d83c-eeaa-4d47-e15c-680faa638c70"
      },
      "source": [
        "model.save('My Drive/saved_model/my_model')"
      ],
      "execution_count": null,
      "outputs": [
        {
          "output_type": "stream",
          "text": [
            "INFO:tensorflow:Assets written to: My Drive/saved_model/my_model/assets\n"
          ],
          "name": "stdout"
        }
      ]
    },
    {
      "cell_type": "code",
      "metadata": {
        "id": "8j4xyATnQ5hf"
      },
      "source": [
        ""
      ],
      "execution_count": null,
      "outputs": []
    }
  ]
}